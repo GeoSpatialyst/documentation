{
 "cells": [
  {
   "cell_type": "markdown",
   "metadata": {},
   "source": [
    "# Session 2: Vector Data Analysis and Map Projection\n",
    "*Written by Men Vuthy, 2021*"
   ]
  },
  {
   "cell_type": "markdown",
   "metadata": {},
   "source": [
    "---"
   ]
  },
  {
   "cell_type": "markdown",
   "metadata": {},
   "source": [
    "#### Overview:\n",
    "\n",
    "In this session, we will learn about reading and exporting spatial data `Shapefile` and how to deal with map projections in Python by using `Geopandas` and `pyproj` modules and some useful data management functionalities.\n",
    "\n",
    "After this session, you will understand how to:\n",
    "\n",
    "* Read and write vector data\n",
    "* Create geometries into GeoDataFrame\n",
    "* Change the coordinate reference system of the data"
   ]
  },
  {
   "cell_type": "markdown",
   "metadata": {},
   "source": [
    "**Downloading data**"
   ]
  },
  {
   "cell_type": "markdown",
   "metadata": {},
   "source": [
    "The data used in this session is *Provincial population census 2019 of Cambodia* which shows the total population, total population of males and females, total households, household size, density and areas by provinces in the Kingdom of Cambodia. This data is provided for free by [OpenDevelopementCambodia](https://opendevelopmentcambodia.net). Read more about this [dataset](https://data.opendevelopmentcambodia.net/dataset/population-census-2019-provisional-population-totals)\n",
    "\n",
    "Dataset: \n",
    "\n",
    "* [Shapefile](https://data.opendevelopmentmekong.net/dataset/2aaa4d7b-72b3-46d3-979e-8f30e4d801bd/resource/8d44398c-9d2c-4b8a-9194-b9d29774fc41/download/provisional_census2019.zip)\n",
    "* [GeoJSON](https://data.opendevelopmentmekong.net/dataset/2aaa4d7b-72b3-46d3-979e-8f30e4d801bd/resource/bba28f46-a5e8-498c-b465-de2163a8f5b9/download/provisional_census2019.geojson)\n",
    "           \n"
   ]
  },
  {
   "cell_type": "markdown",
   "metadata": {},
   "source": [
    "### 1. Introduction to Geopandas"
   ]
  },
  {
   "cell_type": "markdown",
   "metadata": {},
   "source": [
    "`Geopandas` is a module to ease the work with geospatial data in Python easier. This module is extended from `pandas` module to allow spatial operations on geometric objects. In previous session, geometric operations are performed by `shapely`, but `Geopandas` further depends on `fiona` for file access and `matplotlib` for plotting. It actually combines the capabilities of `pandas` and `shapely`, providing geospatial operations in pandas and a high-level interface to multiple geometries to shapely. More details about `GeoPandas` is available [here](https://geopandas.org)."
   ]
  },
  {
   "cell_type": "markdown",
   "metadata": {},
   "source": [
    "#### 1.a. Reading vector files"
   ]
  },
  {
   "cell_type": "markdown",
   "metadata": {},
   "source": [
    "The first step in analysis pipline is mostly reading the input data. The most common dataformats in GIS includes [Shapefile](https://en.wikipedia.org/wiki/Shapefile), [GeoJSON](https://en.wikipedia.org/wiki/GeoJSON), and [kml or kmz](https://en.wikipedia.org/wiki/Keyhole_Markup_Language). In this section, we will apply various functions from `Geopandas` to read these input files for analysis. The main fuction for reading input data is `gpd.read_file()`, let's see how to use it:"
   ]
  },
  {
   "cell_type": "code",
   "execution_count": 1,
   "metadata": {},
   "outputs": [],
   "source": [
    "# Import necessary modules\n",
    "import geopandas as gpd"
   ]
  },
  {
   "cell_type": "markdown",
   "metadata": {},
   "source": [
    "**Reading a shapefile**"
   ]
  },
  {
   "cell_type": "code",
   "execution_count": 2,
   "metadata": {},
   "outputs": [],
   "source": [
    "# Set filepath\n",
    "fp = \"data/provisional_census2019/provisional_census2019.shp\"\n",
    "\n",
    "# Read file using gpd.read_file()\n",
    "data = gpd.read_file(fp)"
   ]
  },
  {
   "cell_type": "code",
   "execution_count": 3,
   "metadata": {},
   "outputs": [
    {
     "data": {
      "text/html": [
       "<div>\n",
       "<style scoped>\n",
       "    .dataframe tbody tr th:only-of-type {\n",
       "        vertical-align: middle;\n",
       "    }\n",
       "\n",
       "    .dataframe tbody tr th {\n",
       "        vertical-align: top;\n",
       "    }\n",
       "\n",
       "    .dataframe thead th {\n",
       "        text-align: right;\n",
       "    }\n",
       "</style>\n",
       "<table border=\"1\" class=\"dataframe\">\n",
       "  <thead>\n",
       "    <tr style=\"text-align: right;\">\n",
       "      <th></th>\n",
       "      <th>ogc_fid</th>\n",
       "      <th>pro_code</th>\n",
       "      <th>province_k</th>\n",
       "      <th>provinces</th>\n",
       "      <th>households</th>\n",
       "      <th>males</th>\n",
       "      <th>females</th>\n",
       "      <th>total</th>\n",
       "      <th>house_size</th>\n",
       "      <th>area_km2</th>\n",
       "      <th>pop_km2</th>\n",
       "      <th>reference</th>\n",
       "      <th>geometry</th>\n",
       "    </tr>\n",
       "  </thead>\n",
       "  <tbody>\n",
       "    <tr>\n",
       "      <th>0</th>\n",
       "      <td>1</td>\n",
       "      <td>4</td>\n",
       "      <td>ááááááááá¶áá</td>\n",
       "      <td>Kampong Chhnang</td>\n",
       "      <td>122925.0</td>\n",
       "      <td>251895.0</td>\n",
       "      <td>274037.0</td>\n",
       "      <td>525932.0</td>\n",
       "      <td>4.3</td>\n",
       "      <td>5521</td>\n",
       "      <td>95</td>\n",
       "      <td>Provisional_Population_Census__00.06.2019.pdf</td>\n",
       "      <td>MULTIPOLYGON (((440280.561 1383585.909, 440090...</td>\n",
       "    </tr>\n",
       "    <tr>\n",
       "      <th>1</th>\n",
       "      <td>2</td>\n",
       "      <td>8</td>\n",
       "      <td>ááááá¶á</td>\n",
       "      <td>Kandal</td>\n",
       "      <td>273111.0</td>\n",
       "      <td>580129.0</td>\n",
       "      <td>615418.0</td>\n",
       "      <td>1195547.0</td>\n",
       "      <td>4.4</td>\n",
       "      <td>3179</td>\n",
       "      <td>376</td>\n",
       "      <td>Provisional_Population_Census__00.06.2019.pdf</td>\n",
       "      <td>POLYGON ((481223.477 1313362.233, 481407.227 1...</td>\n",
       "    </tr>\n",
       "    <tr>\n",
       "      <th>2</th>\n",
       "      <td>3</td>\n",
       "      <td>12</td>\n",
       "      <td>ááááááá</td>\n",
       "      <td>Phnom Penh</td>\n",
       "      <td>399203.0</td>\n",
       "      <td>1039192.0</td>\n",
       "      <td>1090179.0</td>\n",
       "      <td>2129371.0</td>\n",
       "      <td>5.3</td>\n",
       "      <td>679</td>\n",
       "      <td>3136</td>\n",
       "      <td>Provisional_Population_Census__00.06.2019.pdf</td>\n",
       "      <td>POLYGON ((491536.140 1297379.094, 491748.953 1...</td>\n",
       "    </tr>\n",
       "    <tr>\n",
       "      <th>3</th>\n",
       "      <td>4</td>\n",
       "      <td>14</td>\n",
       "      <td>ááááááá</td>\n",
       "      <td>Prey Veng</td>\n",
       "      <td>227008.0</td>\n",
       "      <td>501346.0</td>\n",
       "      <td>556082.0</td>\n",
       "      <td>1057428.0</td>\n",
       "      <td>4.7</td>\n",
       "      <td>4883</td>\n",
       "      <td>217</td>\n",
       "      <td>Provisional_Population_Census__00.06.2019.pdf</td>\n",
       "      <td>POLYGON ((536011.301 1311635.984, 536169.301 1...</td>\n",
       "    </tr>\n",
       "    <tr>\n",
       "      <th>4</th>\n",
       "      <td>5</td>\n",
       "      <td>20</td>\n",
       "      <td>áááá¶áááá</td>\n",
       "      <td>Svay Rieng</td>\n",
       "      <td>131937.0</td>\n",
       "      <td>249446.0</td>\n",
       "      <td>275108.0</td>\n",
       "      <td>524554.0</td>\n",
       "      <td>4.0</td>\n",
       "      <td>2966</td>\n",
       "      <td>177</td>\n",
       "      <td>Provisional_Population_Census__00.06.2019.pdf</td>\n",
       "      <td>POLYGON ((587996.231 1282290.102, 588224.731 1...</td>\n",
       "    </tr>\n",
       "  </tbody>\n",
       "</table>\n",
       "</div>"
      ],
      "text/plain": [
       "   ogc_fid  pro_code                         province_k        provinces  \\\n",
       "0        1         4  ááááááááá¶áá  Kampong Chhnang   \n",
       "1        2         8                 ááááá¶á           Kandal   \n",
       "2        3        12              ááááááá       Phnom Penh   \n",
       "3        4        14              ááááááá        Prey Veng   \n",
       "4        5        20           áááá¶áááá       Svay Rieng   \n",
       "\n",
       "   households      males    females      total  house_size  area_km2  pop_km2  \\\n",
       "0    122925.0   251895.0   274037.0   525932.0         4.3      5521       95   \n",
       "1    273111.0   580129.0   615418.0  1195547.0         4.4      3179      376   \n",
       "2    399203.0  1039192.0  1090179.0  2129371.0         5.3       679     3136   \n",
       "3    227008.0   501346.0   556082.0  1057428.0         4.7      4883      217   \n",
       "4    131937.0   249446.0   275108.0   524554.0         4.0      2966      177   \n",
       "\n",
       "                                       reference  \\\n",
       "0  Provisional_Population_Census__00.06.2019.pdf   \n",
       "1  Provisional_Population_Census__00.06.2019.pdf   \n",
       "2  Provisional_Population_Census__00.06.2019.pdf   \n",
       "3  Provisional_Population_Census__00.06.2019.pdf   \n",
       "4  Provisional_Population_Census__00.06.2019.pdf   \n",
       "\n",
       "                                            geometry  \n",
       "0  MULTIPOLYGON (((440280.561 1383585.909, 440090...  \n",
       "1  POLYGON ((481223.477 1313362.233, 481407.227 1...  \n",
       "2  POLYGON ((491536.140 1297379.094, 491748.953 1...  \n",
       "3  POLYGON ((536011.301 1311635.984, 536169.301 1...  \n",
       "4  POLYGON ((587996.231 1282290.102, 588224.731 1...  "
      ]
     },
     "execution_count": 3,
     "metadata": {},
     "output_type": "execute_result"
    }
   ],
   "source": [
    "data.head()"
   ]
  },
  {
   "cell_type": "markdown",
   "metadata": {},
   "source": [
    "**Reading a GeoJSON file**"
   ]
  },
  {
   "cell_type": "code",
   "execution_count": 4,
   "metadata": {},
   "outputs": [],
   "source": [
    "# Set filepath\n",
    "fp = \"data/provisional_census2019/provisional_census2019.geojson\"\n",
    "\n",
    "# Read file using gpd.read_file()\n",
    "data = gpd.read_file(fp)"
   ]
  },
  {
   "cell_type": "code",
   "execution_count": 5,
   "metadata": {},
   "outputs": [
    {
     "data": {
      "text/html": [
       "<div>\n",
       "<style scoped>\n",
       "    .dataframe tbody tr th:only-of-type {\n",
       "        vertical-align: middle;\n",
       "    }\n",
       "\n",
       "    .dataframe tbody tr th {\n",
       "        vertical-align: top;\n",
       "    }\n",
       "\n",
       "    .dataframe thead th {\n",
       "        text-align: right;\n",
       "    }\n",
       "</style>\n",
       "<table border=\"1\" class=\"dataframe\">\n",
       "  <thead>\n",
       "    <tr style=\"text-align: right;\">\n",
       "      <th></th>\n",
       "      <th>ogc_fid</th>\n",
       "      <th>pro_code</th>\n",
       "      <th>province_k</th>\n",
       "      <th>provinces</th>\n",
       "      <th>households</th>\n",
       "      <th>males</th>\n",
       "      <th>females</th>\n",
       "      <th>total</th>\n",
       "      <th>house_size</th>\n",
       "      <th>area_km2</th>\n",
       "      <th>pop_km2</th>\n",
       "      <th>reference</th>\n",
       "      <th>geometry</th>\n",
       "    </tr>\n",
       "  </thead>\n",
       "  <tbody>\n",
       "    <tr>\n",
       "      <th>0</th>\n",
       "      <td>1</td>\n",
       "      <td>4</td>\n",
       "      <td>កំពង់ឆ្នាំង</td>\n",
       "      <td>Kampong Chhnang</td>\n",
       "      <td>122925.0</td>\n",
       "      <td>251895.0</td>\n",
       "      <td>274037.0</td>\n",
       "      <td>525932.0</td>\n",
       "      <td>4.3</td>\n",
       "      <td>5521</td>\n",
       "      <td>95</td>\n",
       "      <td>Provisional_Population_Census__00.06.2019.pdf</td>\n",
       "      <td>MULTIPOLYGON (((440280.561 1383585.908, 440090...</td>\n",
       "    </tr>\n",
       "    <tr>\n",
       "      <th>1</th>\n",
       "      <td>2</td>\n",
       "      <td>8</td>\n",
       "      <td>កណ្តាល</td>\n",
       "      <td>Kandal</td>\n",
       "      <td>273111.0</td>\n",
       "      <td>580129.0</td>\n",
       "      <td>615418.0</td>\n",
       "      <td>1195547.0</td>\n",
       "      <td>4.4</td>\n",
       "      <td>3179</td>\n",
       "      <td>376</td>\n",
       "      <td>Provisional_Population_Census__00.06.2019.pdf</td>\n",
       "      <td>MULTIPOLYGON (((481223.477 1313362.233, 481407...</td>\n",
       "    </tr>\n",
       "    <tr>\n",
       "      <th>2</th>\n",
       "      <td>3</td>\n",
       "      <td>12</td>\n",
       "      <td>ភ្នំពេញ</td>\n",
       "      <td>Phnom Penh</td>\n",
       "      <td>399203.0</td>\n",
       "      <td>1039192.0</td>\n",
       "      <td>1090179.0</td>\n",
       "      <td>2129371.0</td>\n",
       "      <td>5.3</td>\n",
       "      <td>679</td>\n",
       "      <td>3136</td>\n",
       "      <td>Provisional_Population_Census__00.06.2019.pdf</td>\n",
       "      <td>MULTIPOLYGON (((491536.140 1297379.094, 491748...</td>\n",
       "    </tr>\n",
       "  </tbody>\n",
       "</table>\n",
       "</div>"
      ],
      "text/plain": [
       "   ogc_fid  pro_code   province_k        provinces  households      males  \\\n",
       "0        1         4  កំពង់ឆ្នាំង  Kampong Chhnang    122925.0   251895.0   \n",
       "1        2         8       កណ្តាល           Kandal    273111.0   580129.0   \n",
       "2        3        12      ភ្នំពេញ       Phnom Penh    399203.0  1039192.0   \n",
       "\n",
       "     females      total  house_size  area_km2  pop_km2  \\\n",
       "0   274037.0   525932.0         4.3      5521       95   \n",
       "1   615418.0  1195547.0         4.4      3179      376   \n",
       "2  1090179.0  2129371.0         5.3       679     3136   \n",
       "\n",
       "                                       reference  \\\n",
       "0  Provisional_Population_Census__00.06.2019.pdf   \n",
       "1  Provisional_Population_Census__00.06.2019.pdf   \n",
       "2  Provisional_Population_Census__00.06.2019.pdf   \n",
       "\n",
       "                                            geometry  \n",
       "0  MULTIPOLYGON (((440280.561 1383585.908, 440090...  \n",
       "1  MULTIPOLYGON (((481223.477 1313362.233, 481407...  \n",
       "2  MULTIPOLYGON (((491536.140 1297379.094, 491748...  "
      ]
     },
     "execution_count": 5,
     "metadata": {},
     "output_type": "execute_result"
    }
   ],
   "source": [
    "data.head(3)"
   ]
  },
  {
   "cell_type": "markdown",
   "metadata": {},
   "source": [
    "We have read the input data with `Geopandas` fuction into variable `data`. Our data consists of multiple columns, but the most important is <span style=\"color:red\">'geometry'</span> column at the last. As we can see, the type of geometry in this <span style=\"color:green\">'geometry'</span> is MULTIPOLYGON."
   ]
  },
  {
   "cell_type": "code",
   "execution_count": 6,
   "metadata": {},
   "outputs": [
    {
     "data": {
      "text/plain": [
       "geopandas.geodataframe.GeoDataFrame"
      ]
     },
     "execution_count": 6,
     "metadata": {},
     "output_type": "execute_result"
    }
   ],
   "source": [
    "# Check the type of data\n",
    "type(data)"
   ]
  },
  {
   "cell_type": "markdown",
   "metadata": {},
   "source": [
    "We can see that the type of data is `geopandas.geodataframe`. As mentioned above, this type of data will allow us to handle spatial data easier by using similar approaches and datastructures in `Pandas`. Furthermore, we will be able to analyze features and operate functions in a way without the need of GIS application."
   ]
  },
  {
   "cell_type": "markdown",
   "metadata": {},
   "source": [
    "#### 1.b. Plotting vector files"
   ]
  },
  {
   "cell_type": "markdown",
   "metadata": {},
   "source": [
    "Besides reading in dataframe, you can also quickly plot the data based on its shapes or geometries by using `.plot()` fuction from geopandas because `Geopandas` provides a high-level interface to the `matplotlib` library for making maps. "
   ]
  },
  {
   "cell_type": "code",
   "execution_count": 7,
   "metadata": {},
   "outputs": [
    {
     "data": {
      "text/plain": [
       "<AxesSubplot:>"
      ]
     },
     "execution_count": 7,
     "metadata": {},
     "output_type": "execute_result"
    },
    {
     "data": {
      "image/png": "[encoded data removed]",
      "text/plain": [
       "<Figure size 432x288 with 1 Axes>"
      ]
     },
     "metadata": {
      "needs_background": "light"
     },
     "output_type": "display_data"
    }
   ],
   "source": [
    "data.plot()"
   ]
  },
  {
   "cell_type": "markdown",
   "metadata": {},
   "source": [
    "***Plotting map of GeoPandas data (optional)***\n",
    "\n",
    "Read more about plotting [geopandas.GeoDataframe](https://geopandas.org/docs/user_guide/mapping.html)."
   ]
  },
  {
   "cell_type": "code",
   "execution_count": 8,
   "metadata": {},
   "outputs": [
    {
     "data": {
      "image/png": "[encoded data removed]",
      "text/plain": [
       "<Figure size 432x288 with 2 Axes>"
      ]
     },
     "metadata": {
      "needs_background": "light"
     },
     "output_type": "display_data"
    }
   ],
   "source": [
    "import matplotlib.pyplot as plt\n",
    "\n",
    "# input data for plotting\n",
    "data.plot(column='total', legend=True, cmap='viridis')\n",
    "\n",
    "# set label x and y\n",
    "plt.xlabel('longitude')\n",
    "plt.ylabel('latitude')\n",
    "\n",
    "# Remove empty white space around the plot\n",
    "plt.tight_layout()\n",
    "\n",
    "# save figure (jpg, png, pdf, etc)\n",
    "plt.savefig('result/cambo_pop.png', dpi = 150)  # dpi is for setting image quality\n",
    "\n",
    "plt.show();"
   ]
  },
  {
   "cell_type": "markdown",
   "metadata": {},
   "source": [
    "#### 1.c. Analyzing vector file"
   ]
  },
  {
   "cell_type": "markdown",
   "metadata": {},
   "source": [
    "After importing input data, we can do some small analyses based on its attribute table. Now, let's see what we can do:"
   ]
  },
  {
   "cell_type": "code",
   "execution_count": 9,
   "metadata": {},
   "outputs": [
    {
     "data": {
      "text/plain": [
       "{'init': 'epsg:32648'}"
      ]
     },
     "execution_count": 9,
     "metadata": {},
     "output_type": "execute_result"
    }
   ],
   "source": [
    "# Check projection of data by using .crs\n",
    "data.crs "
   ]
  },
  {
   "cell_type": "code",
   "execution_count": 10,
   "metadata": {},
   "outputs": [
    {
     "data": {
      "text/plain": [
       "array(['ogc_fid', 'pro_code', 'province_k', 'provinces', 'households',\n",
       "       'males', 'females', 'total', 'house_size', 'area_km2', 'pop_km2',\n",
       "       'reference', 'geometry'], dtype=object)"
      ]
     },
     "execution_count": 10,
     "metadata": {},
     "output_type": "execute_result"
    }
   ],
   "source": [
    "# Check all column names\n",
    "data.columns.values"
   ]
  },
  {
   "cell_type": "code",
   "execution_count": 11,
   "metadata": {},
   "outputs": [
    {
     "data": {
      "text/plain": [
       "25"
      ]
     },
     "execution_count": 11,
     "metadata": {},
     "output_type": "execute_result"
    }
   ],
   "source": [
    "# Check the number of rows or length of data\n",
    "len(data)"
   ]
  },
  {
   "cell_type": "code",
   "execution_count": 12,
   "metadata": {},
   "outputs": [
    {
     "data": {
      "text/html": [
       "<div>\n",
       "<style scoped>\n",
       "    .dataframe tbody tr th:only-of-type {\n",
       "        vertical-align: middle;\n",
       "    }\n",
       "\n",
       "    .dataframe tbody tr th {\n",
       "        vertical-align: top;\n",
       "    }\n",
       "\n",
       "    .dataframe thead th {\n",
       "        text-align: right;\n",
       "    }\n",
       "</style>\n",
       "<table border=\"1\" class=\"dataframe\">\n",
       "  <thead>\n",
       "    <tr style=\"text-align: right;\">\n",
       "      <th></th>\n",
       "      <th>ogc_fid</th>\n",
       "      <th>pro_code</th>\n",
       "      <th>province_k</th>\n",
       "      <th>provinces</th>\n",
       "      <th>households</th>\n",
       "      <th>males</th>\n",
       "      <th>females</th>\n",
       "      <th>total</th>\n",
       "      <th>house_size</th>\n",
       "      <th>area_km2</th>\n",
       "      <th>pop_km2</th>\n",
       "      <th>reference</th>\n",
       "      <th>geometry</th>\n",
       "    </tr>\n",
       "  </thead>\n",
       "  <tbody>\n",
       "    <tr>\n",
       "      <th>2</th>\n",
       "      <td>3</td>\n",
       "      <td>12</td>\n",
       "      <td>ភ្នំពេញ</td>\n",
       "      <td>Phnom Penh</td>\n",
       "      <td>399203.0</td>\n",
       "      <td>1039192.0</td>\n",
       "      <td>1090179.0</td>\n",
       "      <td>2129371.0</td>\n",
       "      <td>5.3</td>\n",
       "      <td>679</td>\n",
       "      <td>3136</td>\n",
       "      <td>Provisional_Population_Census__00.06.2019.pdf</td>\n",
       "      <td>MULTIPOLYGON (((491536.140 1297379.094, 491748...</td>\n",
       "    </tr>\n",
       "  </tbody>\n",
       "</table>\n",
       "</div>"
      ],
      "text/plain": [
       "   ogc_fid  pro_code province_k   provinces  households      males    females  \\\n",
       "2        3        12    ភ្នំពេញ  Phnom Penh    399203.0  1039192.0  1090179.0   \n",
       "\n",
       "       total  house_size  area_km2  pop_km2  \\\n",
       "2  2129371.0         5.3       679     3136   \n",
       "\n",
       "                                       reference  \\\n",
       "2  Provisional_Population_Census__00.06.2019.pdf   \n",
       "\n",
       "                                            geometry  \n",
       "2  MULTIPOLYGON (((491536.140 1297379.094, 491748...  "
      ]
     },
     "execution_count": 12,
     "metadata": {},
     "output_type": "execute_result"
    }
   ],
   "source": [
    "# Select Phnom Penh\n",
    "data.loc[data['province_k'] == 'ភ្នំពេញ'] # or data.loc[data['provinces'] == 'Phnom Penh']"
   ]
  },
  {
   "cell_type": "markdown",
   "metadata": {},
   "source": [
    "So let's check the shape of each multipolygon and the data type"
   ]
  },
  {
   "cell_type": "code",
   "execution_count": 13,
   "metadata": {},
   "outputs": [
    {
     "data": {
      "text/plain": [
       "shapely.geometry.multipolygon.MultiPolygon"
      ]
     },
     "execution_count": 13,
     "metadata": {},
     "output_type": "execute_result"
    }
   ],
   "source": [
    "# Check the type of geometry\n",
    "type(data['geometry'][2])"
   ]
  },
  {
   "cell_type": "code",
   "execution_count": 14,
   "metadata": {},
   "outputs": [
    {
     "data": {
      "image/svg+xml": "<svg xmlns=\"http://www.w3.org/2000/svg\" xmlns:xlink=\"http://www.w3.org/1999/xlink\" width=\"300\" height=\"300\" viewBox=\"467199.72185599955 1261224.8215559996 39767.32648800011 37654.38648800063\" preserveAspectRatio=\"xMinYMin meet\"><g transform=\"matrix(1,0,0,-1,0,2560104.0296)\"><g><path fill-rule=\"evenodd\" fill=\"#66cc99\" stroke=\"#555555\" stroke-width=\"265.1155099200007\" opacity=\"0.6\" d=\"M 491536.14020000026,1297379.0938 L 491748.95270000026,1297372.3439 L 492136.3280999996,1297377.9689 L 492584.8284,1297360.5939 L 493076.6727999998,1297358.3438 L 493443.6107,1297338.5938 L 493797.7982999999,1297281.9684999995 L 494058.89219999965,1297192.4688 L 494238.3925999999,1297052.2185999993 L 494304.48610000033,1296913.4682999998 L 494389.48649999965,1296606.718 L 494466.7988,1296247.9677 L 494633.45529999956,1296018.7174999993 L 494784.8616000004,1295825.0922999997 L 495038.1118999999,1295560.0922999997 L 495217.51829999965,1295365.217 L 495370.23709999956,1295198.2168 L 495533.1747000003,1295046.5918 L 495599.08100000024,1294769.2162999995 L 495644.79980000015,1294634.3411999997 L 495775.5186999999,1294616.3412999995 L 496016.33139999956,1294608.2161999997 L 496322.1129,1294606.8412999995 L 496553.45689999964,1294596.0912999995 L 496525.2692999998,1294529.2160999998 L 496394.5504999999,1294218.466 L 496236.5504999999,1293758.4655 L 496110.30009999964,1293304.0900999997 L 495986.6436999999,1292847.2146 L 495876.1749,1292259.4640999995 L 495750.3936999999,1291863.4637 L 495623.1749999998,1291481.5885 L 495544.8622000003,1291152.4629999995 L 495507.2056999998,1291019.7131999992 L 495331.3398000002,1291005.6254999992 L 495242.4689999996,1290916.755 L 495040.04119999986,1290615.5823999997 L 494862.2993,1290190.9782999996 L 494738.8677000003,1289919.4291999992 L 494625.31070000026,1289608.3818999995 L 494250.0778999999,1288423.44 L 494107.7670999998,1288331.7106999997 L 493887.76680000033,1288032.4604 L 493652.3914999999,1287649.21 L 493452.4775,1287356.274 L 493193.65189999994,1287006.8598999996 L 493038.35610000044,1286644.5043 L 492870.119,1286075.0884 L 492794.44379999954,1285759.0396999996 L 492741.4600999998,1285369.2355 L 492725.89080000017,1284996.7074999996 L 492618.08050000016,1284795.7577999998 L 492675.64070000034,1284688.0823999997 L 492724.14070000034,1284463.8319 L 492765.60950000025,1284315.582 L 492872.07830000017,1283967.2065999992 L 492986.4846999999,1283597.8311 L 493031.7346999999,1283451.706 L 493184.4534,1282978.0806 L 493258.0162000004,1282761.9552999996 L 493379.23500000034,1282405.8299 L 493479.2973999996,1282156.7048 L 493501.92260000017,1282091.2047 L 493573.329,1281884.4546 L 493739.20409999974,1281472.0790999997 L 493832.0164999999,1281100.7037 L 493897.11039999966,1280708.5784 L 493971.5164999999,1280189.3278 L 494011.5480000004,1279655.2025 L 494097.9227999998,1278455.076199999 L 494104.20430000033,1278272.0759999994 L 494180.14190000016,1278118.5757999998 L 494213.92310000025,1278064.7007 L 494315.1107,1277969.8256 L 494397.0482999999,1277904.0755 L 494504.3607,1277848.7006 L 494600.23589999974,1277796.9505 L 494822.4360999996,1277647.5198 L 494889.2675,1277602.5753 L 495143.705,1277446.0749999993 L 495383.98670000024,1277313.7 L 495578.23699999973,1277209.2 L 495858.1590999998,1277091.401 L 496135.2686,1276958.1996999998 L 496443.89410000015,1276708.4493 L 496860.5192999998,1276526.3243 L 497385.26999999955,1276362.3241 L 497895.864,1276266.8237999994 L 498384.7708,1276196.823999999 L 498846.9276,1276127.9488999993 L 499175.4590999996,1276057.5735999998 L 499377.92819999997,1276021.1985999998 L 499530.6470999997,1276029.4487999994 L 499632.1470999997,1276051.5736999996 L 499848.14740000013,1276046.5737999994 L 500036.0850999998,1276064.1985999998 L 500227.7101999996,1276096.9486999996 L 500379.4913999997,1276099.9487999994 L 500519.9293,1276094.9488999993 L 500812.0856999997,1276104.1988999993 L 501040.77329999954,1276106.8237999994 L 501617.49289999995,1276119.0737999994 L 501882.1492999997,1276091.9487999994 L 502024.27440000046,1276085.9486999996 L 502128.4932000004,1276077.6986999996 L 502434.93120000046,1276038.9487999994 L 502928.3378999997,1275970.6986999996 L 503227.2131000003,1275919.1986999996 L 503563.0258999998,1275858.9485 L 504056.8075000001,1275729.9484 L 504555.80819999985,1275583.0733 L 504434.55790000036,1275473.1983 L 504264.9331,1275179.072899999 L 504059.55759999994,1274715.9474 L 503820.49509999994,1274355.4472 L 503373.36959999986,1273951.6966999993 L 503157.65050000045,1273713.1964999996 L 502955.52529999986,1273337.5709 L 502866.27529999986,1272998.195699999 L 502933.4940999998,1272624.1952 L 502998.9316999996,1272132.1947 L 503036.0256000003,1271893.819599999 L 503071.8691999996,1271659.3192999996 L 503079.2444000002,1271498.194 L 503096.1816999996,1271320.569 L 503085.7757000001,1271203.4437 L 503070.9628999997,1271001.1937 L 503070.1191999996,1270646.4431999996 L 503165.5569000002,1270296.318 L 503172.2757000001,1269947.9425 L 503196.7445,1269444.6919 L 505401.0904000001,1269390.6919999998 L 505494.1843999997,1269320.1920999996 L 505361.93400000036,1269222.4419999998 L 505172.4028000003,1269153.5667 L 504863.6524,1269097.5668 L 504610.9020999996,1269011.5665 L 504176.71410000045,1268798.0664 L 503751.9949000003,1268513.5660999995 L 503388.46329999994,1268185.0657 L 503142.7757000001,1267860.0655 L 503093.5569000002,1267529.0649999995 L 503143.71329999994,1267441.69 L 502920.7128999997,1267437.3147999998 L 502614.9625000004,1267475.4398999996 L 502305.61849999987,1267488.0650999993 L 501860.74289999995,1267494.5648999996 L 501491.7114000004,1267520.6898999996 L 501106.5235000001,1267509.9398999996 L 500761.83579999954,1267509.5649999995 L 500394.4601999996,1267491.19 L 500185.585,1267461.44 L 499937.6162999999,1267408.5648999996 L 499790.7410000004,1267394.5647999998 L 499685.6158999996,1267387.4397 L 499569.0219,1267386.4398999996 L 499361.7094999999,1267357.0648999996 L 499053.08380000014,1267289.4396 L 498639.0834999997,1267173.4396 L 498072.5515,1267134.8146 L 497630.4888000004,1267129.3147 L 497443.2112999996,1267114.7813 L 497342.41839999985,1267106.9594 L 497222.20139999967,1267144.4362 L 497117.9254999999,1267139.5647 L 496913.9254999999,1267173.1896 L 496724.6127000004,1267192.0647 L 496392.92480000015,1267295.8147 L 496090.36199999973,1267464.5649999995 L 495853.8618999999,1267625.5649999995 L 495705.01800000016,1267814.6901999991 L 495617.0804000003,1268040.6907 L 495352.36120000016,1268410.0658999998 L 495118.14240000024,1268799.6912999991 L 494899.17360000033,1269175.4418 L 494745.01690000016,1269522.0671999995 L 494626.6107999999,1269725.0672999993 L 494471.2357,1270043.6926 L 494355.36039999966,1270272.1928 L 494249.64159999974,1270489.3181 L 494194.89169999957,1270587.0681999996 L 492985.92140000034,1270130.8178 L 491425.66980000027,1269553.0672999993 L 491369.23220000044,1269191.4418 L 491352.41980000027,1269088.3167 L 491315.73220000044,1268949.8167 L 491285.41970000044,1268802.4415 L 491267.82579999976,1268660.1914 L 491262.10730000027,1268569.9411999993 L 491080.4820999997,1267571.4403 L 491187.91970000044,1267211.5648999996 L 491281.4820999997,1266879.6895 L 491376.66970000044,1266592.1890999991 L 491554.20749999955,1265994.2706 L 491575.29480000027,1265916.9385 L 491597.63879999984,1265416.5628999993 L 491566.95880000014,1265067.6053999998 L 491555.8713999996,1263393.5968999993 L 491494.37009999994,1263412.9256999996 L 491414.3816999998,1263423.8334 L 491243.4973,1263409.2901 L 491108.9715,1263416.562 L 491008.98599999957,1263403.8366 L 490913.4502999997,1263530.1859 L 490750.79389999993,1263556.686 L 490566.6063000001,1263555.1859 L 490462.2934999997,1263647.811 L 490519.29360000044,1263791.4364 L 490409.9500000002,1263870.0614 L 490160.7932000002,1264008.3114 L 489956.10560000036,1264118.5616999995 L 489712.13680000044,1264160.3115999997 L 489480.98000000045,1264141.0616999995 L 489249.82359999977,1264078.5616999995 L 489063.10479999986,1264079.6865999997 L 488886.4484000001,1264126.4366999995 L 488718.7604,1264133.9365999997 L 488518.16640000045,1264024.5616999995 L 488337.9475999996,1263894.8115999997 L 488120.9160000002,1263725.6864 L 487849.2906999998,1263550.1863 L 487700.6031999998,1263583.0612 L 487606.2906999998,1263819.1864999998 L 487473.9468,1263999.4364999998 L 487373.5092000002,1264073.0616999995 L 487212.04,1264179.5616999995 L 487083.6963999998,1264213.6868999992 L 486982.04,1264214.9368999992 L 486890.75850000046,1264075.0617999993 L 486817.2896999996,1263920.0614999998 L 486676.6332,1263629.0613 L 486532.1331000002,1263360.9361 L 486411.7580000004,1263118.3109 L 486314.1955000004,1262912.4355999995 L 486236.8515999997,1262781.5603999998 L 486193.7890999997,1262697.6854999997 L 486047.6014999999,1262769.9354999997 L 485872.1951000001,1262848.5604999997 L 485696.78839999996,1262906.8105999995 L 485560.78839999996,1262967.6856999993 L 485466.72589999996,1263013.3106999993 L 485365.03830000013,1263057.6859 L 485210.0067999996,1263114.6857999992 L 485154.1003,1263101.936 L 485071.6628,1263012.9357999992 L 484970.13150000013,1262921.4355999995 L 484864.7251000004,1262903.4356999993 L 484747.8499999996,1262883.0605999995 L 484660.25629999954,1262848.6856999993 L 484566.256,1262830.8105999995 L 484462.0684000002,1262845.9356999993 L 484317.1930999998,1262908.0607999992 L 484228.1308000004,1263013.4359 L 484178.38069999963,1263170.811 L 484131.19319999963,1263327.061 L 484060.0055999998,1263359.9363 L 483962.1616000002,1263381.4363 L 483923.94290000014,1263460.1864 L 483874.4116000002,1263568.1864999998 L 483495.6924,1263574.0614999998 L 482998.9731999999,1263572.3115999997 L 481645.97169999965,1263624.4367999993 L 481543.0653,1263631.9366999995 L 481451.44049999956,1263765.1868999992 L 481302.5028,1264006.4372 L 481181.5652,1264200.5622 L 481107.65890000015,1264375.8124 L 481106.19010000024,1264534.5627999995 L 480973.5959,1264605.2042999994 L 480881.2374,1264709.8774999995 L 480814.73929999955,1264824.4021 L 480764.25,1264943.8528 L 480690.36319999956,1264999.2682 L 480599.5334,1265087.0633 L 480408.36120000016,1265031.286 L 480320.9282999998,1264945.0845999997 L 480251.9671,1264846.5689 L 480149.7567999996,1264720.961 L 480061.09219999984,1264643.3798999991 L 479947.79899999965,1264586.7333 L 479866.5230999999,1264568.2617 L 479833.2740000002,1264507.9207 L 479877.6063000001,1264416.793299999 L 480048.7775999997,1264379.8497 L 480244.57799999975,1264349.0635 L 480283.9844000004,1264281.3336999994 L 480295.0673000002,1264180.354699999 L 480260.5865000002,1264062.1356 L 480192.85670000035,1263899.5844 L 480146.06149999984,1263797.3740999997 L 480006.90759999957,1263672.9979999997 L 479930.5580000002,1263621.2771 L 479795.0982999997,1263618.8143 L 479689.0321000004,1263612.187 L 479615.307,1263591.7226 L 479488.46740000043,1263562.168 L 479341.8443999998,1263532.6867999993 L 479243.4093000004,1263556.0109 L 479088.18769999966,1263616.4367999993 L 478946.0939999996,1263653.937 L 478800.18769999966,1263688.9371 L 478711.42349999957,1263708.711 L 478600.5931000002,1263804.7642 L 478484.8367999997,1263876.1882 L 478414.64439999964,1263930.3720999993 L 478343.2204,1263974.7041999996 L 478330.9057,1264083.0716999993 L 478291.4996999996,1264232.0770999994 L 478199.1409,1264355.2223 L 478126.4855000004,1264447.581 L 478067.3761,1264533.7824 L 477992.2578999996,1264612.5952 L 477920.7494,1264671.4383 L 477906.06180000026,1264749.8133 L 477931.9167999998,1264849.0335 L 478003.437,1264916.9383 L 478088.3113000002,1264975.8727 L 478114.8119,1265087.8136 L 478114.1716,1265172.9044 L 478030.43319999985,1265207.3850999996 L 477870.0931000002,1265181.6886999998 L 477791.5318999998,1265142.1184 L 477704.0990000004,1265062.0743 L 477628.9808,1265026.3624 L 477550.46750000026,1265020.8135 L 477438.6863000002,1265025.1885 L 477422.0974000003,1265115.0267999992 L 477461.50370000023,1265235.7089 L 477498.44739999995,1265340.3818999995 L 477446.7263000002,1265432.7408 L 477252.74870000035,1265437.4392 L 477206.59389999975,1265383.482999999 L 477143.7899000002,1265341.6138 L 477080.98599999957,1265281.2728 L 477005.8674999997,1265230.7835 L 476925.2171,1265228.3137999997 L 476864.2507999996,1265259.106899999 L 476790.36390000023,1265321.9109 L 476726.4042999996,1265351.1890999991 L 476631.5071,1265399.4923 L 476552.6942999996,1265416.7325999998 L 476480.0389,1265441.3616 L 476397.53199999966,1265478.3050999995 L 476355.0290999999,1265518.0644 L 476291.904,1265594.5645 L 476255.40390000027,1265663.3146 L 476250.8727000002,1265776.3146 L 476316.2564000003,1265879.7577 L 476434.47589999996,1265994.2825 L 476503.43680000026,1266074.3265 L 476565.0097000003,1266219.6373999994 L 476534.22339999955,1266303.376 L 476496.34169999976,1266347.8151999991 L 476390.1440000003,1266419.1323 L 476302.71109999996,1266409.2807999998 L 476239.90720000025,1266414.2064999994 L 476110.5081000002,1266408.945 L 475968.0911999997,1266387.1903 L 475861.5909000002,1266432.1904 L 475783.3409000002,1266531.5654 L 475765.7993,1266608.7761 L 475707.9212999996,1266616.1645999998 L 475606.9424,1266569.3698999994 L 475463.34049999993,1266558.5656 L 475377.1843999997,1266602.1905 L 475342.18099999987,1266734.3840999994 L 475354.4956,1266843.9832 L 475375.43039999995,1266983.1369 L 475424.6882999996,1267090.2729 L 475544.21580000035,1267237.4411999993 L 475711.6162,1267289.7674 L 475876.6305,1267351.3399 L 475895.1020999998,1267447.3927999996 L 475835.9927000003,1267552.0660999995 L 475714.07940000016,1267621.0274 L 475610.63769999985,1267596.3984999992 L 475512.1216000002,1267483.1051 L 475363.1161000002,1267368.5804999992 L 475263.1842,1267179.1910999995 L 475180.2778000003,1267109.8160999995 L 475064.4342,1267059.5661999993 L 474943.7153000003,1267052.5659999996 L 474824.9726,1267069.3387 L 474675.96750000026,1267183.8635 L 474572.52579999994,1267245.4362 L 474446.8711000001,1267278.4414 L 474298.08949999977,1267244.9414 L 474217.58939999994,1267155.0662999991 L 474285.59800000023,1267055.7931999993 L 474368.10479999986,1266943.7313 L 474423.5201000003,1266809.5033 L 474361.27699999977,1266668.0658999998 L 474269.5888,1266580.4539 L 474142.1205000002,1266537.0657 L 473856.37009999994,1266551.1908 L 473733.90830000024,1266659.2671 L 473640.3184000002,1266738.0799 L 473482.5262000002,1266733.3159999996 L 473347.30730000045,1266615.9408999998 L 473358.3164999997,1266468.3927999996 L 473554.1166000003,1266289.8323999997 L 473752.3799,1266166.6874 L 473848.43290000036,1266037.3852999993 L 473849.66420000046,1265901.9256999996 L 473754.84229999967,1265808.3355 L 473586.13379999995,1265798.4842 L 473294.0884999996,1265877.19 L 473209.98029999994,1265956.7476 L 473156.35830000043,1266054.626 L 473147.73819999956,1266230.7233 L 473177.29339999985,1266384.6544 L 473040.4006000003,1266461.3158999998 L 472910.0689000003,1266477.0132 L 472785.6924,1266404.3578999992 L 472690.87090000045,1266364.9516 L 472586.2438000003,1266327.5657 L 472510.9625000004,1266265.8155 L 472397.8373999996,1266249.8157 L 472326.7748999996,1266275.0657 L 472247.0560999997,1266289.9408 L 472186.3373999996,1266265.3155 L 472109.5246000001,1266256.8156 L 472128.9309,1266401.5658 L 472129.21219999995,1266517.3158 L 472158.46219999995,1266807.3162999991 L 472159.9934,1267075.4416 L 472149.24349999987,1267295.1918 L 472153.5247999998,1267539.3170999996 L 472169.3060999997,1267772.0673999991 L 472174.4935999997,1268056.6925 L 472174.8689000001,1268310.9429 L 472170.55649999995,1268520.568 L 472177.9001000002,1268848.5682999995 L 472326.7440999998,1268952.6933999993 L 472337.369,1269195.5687 L 472331.2441999996,1269480.6941 L 472556.5882000001,1269568.1941 L 472581.1195,1269648.0691999998 L 472575.33829999994,1269764.9442999996 L 472704.9633999998,1269777.0691999998 L 472728.6195,1269930.5693999995 L 472716.6195,1270077.9444999993 L 472787.7446999997,1270075.069599999 L 472910.90110000037,1270061.6947 L 473173.8699000003,1270060.4444999993 L 473483.7455000002,1270047.4444999993 L 473656.55790000036,1270059.3193999995 L 473677.2143000001,1270121.4443999995 L 473708.33939999994,1270252.0697 L 473704.9331,1270333.3197 L 473876.37069999985,1270324.9444999993 L 474119.1835000003,1270361.8198 L 474147.55869999994,1270445.444599999 L 474135.6211000001,1270597.9448 L 474134.9023000002,1270714.6951 L 474139.05869999994,1270782.0701 L 474162.2148000002,1270842.8202999998 L 474227.4650999997,1270933.9452999998 L 474313.21520000044,1271060.5703999996 L 474379.9650999997,1271203.6954999994 L 474477.1216000002,1271322.570699999 L 474559.99679999985,1271386.9455999993 L 474645.3716000002,1271437.320699999 L 474710.49679999985,1271509.3209 L 474721.93450000044,1271697.946 L 474749.27809999976,1271937.3211 L 474763.9656999996,1272170.3213999998 L 474766.0281999996,1272395.4466999993 L 474746.93450000044,1272678.6969 L 474751.8722,1272881.0721 L 474733.8722,1273084.3222 L 474720.1847,1273333.4475999996 L 474652.43460000027,1273366.8227999993 L 474489.40309999976,1273471.4475999996 L 474335.65309999976,1273548.322899999 L 474100.0279000001,1273751.1982 L 473949.4963999996,1273871.3231 L 473742.9024,1274091.1985999998 L 473581.08970000036,1274295.0737999994 L 473480.2149,1274508.6991 L 473392.46449999977,1274694.4493 L 473256.52699999977,1274676.0742 L 473051.8706,1274564.0741 L 472831.99540000036,1274446.698999999 L 472600.68259999994,1274329.1988999993 L 472434.4013,1274391.8241 L 472276.83860000037,1274444.4488999993 L 472194.1509999996,1274497.8241 L 472124.2134999996,1274574.1994 L 472100.05709999986,1274715.0743 L 472095.0258999998,1274836.9494 L 472061.9946999997,1275013.3247999996 L 472030.2134999996,1275117.4498999994 L 471976.2840999998,1275175.0705999993 L 471942.4634999996,1275291.45 L 472047.2758999998,1275507.5752 L 472025.4949000003,1275818.8255 L 471931.24480000045,1276026.4507999998 L 471771.21329999994,1276215.3259999994 L 471623.61930000037,1276339.2009999994 L 471492.18180000037,1276348.576199999 L 471346.5253999997,1276244.7010999992 L 471147.6501000002,1276107.8259999994 L 470974.4938000003,1276122.3257999998 L 470791.2125000004,1276125.4510999992 L 470611.8372999998,1276174.3260999992 L 470444.9305999996,1276163.4510999992 L 470331.1182000004,1276151.076199999 L 470334.1495000003,1276341.9513 L 470314.6807000004,1276625.7016 L 470272.3683000002,1276863.8267 L 470218.4620000003,1277039.5768999998 L 470154.6179999998,1277267.5770999994 L 470060.4304999998,1277508.4525 L 469967.3680999996,1277688.0776 L 469813.5866,1277845.0779 L 469673.49289999995,1277930.8279999997 L 469538.3990000002,1278004.9530999996 L 469401.0861999998,1278179.8281999994 L 469706.1805999996,1278341.7034 L 469797.5242999997,1278452.0784 L 469843.5554999998,1278646.7037 L 469803.3054999998,1278723.2038 L 469690.9303000001,1278775.7038 L 469614.0242999997,1278849.7038 L 469629.86789999995,1279106.7041999996 L 469626.4932000004,1279259.4542999994 L 469416.61760000046,1279253.7042999994 L 469187.7740000002,1279241.7041999996 L 468986.77359999996,1279247.4543999992 L 468833.8673,1279266.9543999992 L 468730.3985000001,1279341.0796 L 468672.58579999954,1279467.2047 L 468704.6173,1279623.7047 L 468847.6173999999,1279677.9547 L 469067.5861999998,1279678.5798 L 469236.9928000001,1279674.2048 L 469389.9304999998,1279663.5797 L 469533.8055999996,1279574.0795 L 469760.27440000046,1279527.8296 L 469824.3684,1279549.4545 L 469924.4308000002,1279570.3296 L 470023.30599999987,1279678.2045 L 470142.0247999998,1279605.9545 L 470271.8063000003,1279543.4545 L 470390.11870000046,1279515.3295 L 470441.4627,1279569.9542999994 L 470518.68149999995,1279662.3293999992 L 470572.1190999998,1279721.8296 L 470616.6815999998,1279768.7046 L 470689.21279999986,1279842.2045 L 470766.8691999996,1279951.2046 L 470813.9631000003,1280058.9549 L 470861.08800000045,1280175.5798 L 470889.1191999996,1280256.7049 L 470987.08829999994,1280269.2049 L 471073.61959999986,1280291.955 L 471036.7757000001,1280501.4551999997 L 470992.2757000001,1280615.7054999992 L 470928.68209999986,1280742.7054999992 L 470872.7445,1280837.9556 L 470826.96329999994,1280947.2057 L 470790.0882000001,1281056.4558 L 470751.9631000003,1281177.081 L 470734.1819000002,1281264.706 L 470738.057,1281441.0812999997 L 470824.6195,1281613.4562 L 470949.3382000001,1281759.2064999994 L 471032.08860000037,1281888.4565999992 L 471072.8387000002,1281940.4564999994 L 471140.3075000001,1282060.8318 L 471189.9638,1282155.9569 L 471220.5263,1282258.7069 L 471229.46389999986,1282428.7072 L 471186.24509999994,1282546.8321 L 471146.8388,1282619.2073 L 471056.55759999994,1282849.0825999994 L 471050.21360000037,1282974.7076999992 L 471048.99480000045,1283088.9576999992 L 471088.4637000002,1283241.083 L 471215.8076999998,1283511.2082 L 471377.49540000036,1283895.4583 L 471484.4642000003,1284127.4586999994 L 471577.4018000001,1284360.709 L 471621.9645999996,1284482.4591 L 471678.02699999977,1284677.834 L 471717.5270999996,1284936.5844999999 L 471751.96470000036,1285173.8345999997 L 471838.5899,1285490.9597999994 L 471858.4023000002,1285592.0851 L 471940.55879999977,1286108.7105999999 L 471976.21520000044,1286283.8355 L 472081.9653000003,1286685.961 L 472062.9653000003,1286966.4611 L 472026.1217,1287151.7113 L 471989.2778000003,1287345.9616999999 L 471956.2154000001,1287488.2118999995 L 471931.9654000001,1287644.5869999994 L 472334.0593999997,1288216.2124 L 472419.0281999996,1288228.4625 L 472510.18460000027,1288452.2125 L 472547.99710000027,1288614.5877 L 472524.09109999985,1288743.5877999999 L 472483.6848,1288882.9629999995 L 472460.0454000002,1288957.2 L 472531.40359999985,1289209.5884 L 472590.24760000035,1289405.3385 L 472739.46640000027,1289516.9635 L 472905.21640000027,1289589.0887 L 473092.56039999984,1289638.3385 L 473527.0920000002,1289645.2135 L 474075.0301999999,1289668.2135 L 474579.6553999996,1289695.3384 L 474885.6557,1289846.0884 L 475630.03160000034,1290012.4637 L 475993.2507999996,1290071.5887 L 476127.21949999966,1290225.2137 L 476533.7198999999,1290235.9637 L 476773.3139000004,1290271.0886 L 477001.43900000025,1290303.7137 L 477327.6582000004,1290325.9636 L 477574.8770000003,1290336.9636 L 477702.2522,1290292.2136 L 477880.56489999965,1290238.4635 L 478085.78369999956,1290272.3384 L 478260.44010000024,1290359.8385 L 478528.0656000003,1290380.9637 L 478891.25320000015,1290414.5884 L 479235.28479999956,1290413.8384 L 479509.2538,1290426.0885 L 479698.3507000003,1290506.7173999995 L 479603.7226,1290549.3386 L 479425.5038999999,1290693.3388 L 479309.7224000003,1290858.8389999997 L 479285.7224000003,1291015.3389999997 L 479423.72279999964,1291341.9642999992 L 479611.34800000023,1291598.4647 L 479863.9419,1291860.0898 L 480051.53589999955,1292093.7149999999 L 480065.6919999998,1292205.59 L 479940.9419999998,1292297.3400999997 L 479789.4731999999,1292435.0901999995 L 479804.9731999999,1292624.4656 L 479816.5981,1292749.0907 L 479852.5669,1292993.2159 L 479866.7857999997,1293161.0909 L 479934.5356999999,1293345.3410999998 L 479883.8169999998,1293559.2162999995 L 479870.0981999999,1293807.2163999993 L 479974.8485000003,1294013.0917 L 480129.1922000004,1294150.0917 L 480189.2862,1294320.4668 L 480306.5674,1294355.8421 L 480404.5990000004,1294291.9669 L 480613.6617,1294362.8419 L 480725.6616000002,1294269.842 L 480835.3492999999,1294352.2168 L 480813.88040000014,1294511.2171999998 L 480770.7241000002,1294638.5922999997 L 480712.2242,1294744.2173999995 L 480628.2241000002,1294832.0923999995 L 480516.16139999963,1294889.5924999993 L 480646.3491000002,1295055.9675999992 L 480702.8805,1295090.7177 L 480879.5993999997,1295108.8427 L 481130.6309000002,1295127.4678 L 481486.1311999997,1295126.8424999993 L 481814.88150000013,1295118.5925999992 L 482170.3819000004,1295115.3424999993 L 482374.2570000002,1295112.4674999993 L 482569.2571,1295111.2173999995 L 482602.0070000002,1294833.4671 L 482746.7260999996,1294368.9667 L 482873.6321,1293933.7163999993 L 483006.88239999954,1293492.2159 L 483098.1947999997,1293116.8406 L 483170.4451000001,1292802.4652999993 L 483264.4138000002,1292550.4649999999 L 483340.6950000003,1292392.7149999999 L 483610.2264999999,1291898.7144 L 483812.4453999996,1291573.9641999993 L 483896.2580000004,1291324.5888999999 L 484033.5703999996,1291083.8386 L 484217.32079999987,1290795.9634 L 484282.78949999996,1290647.2133 L 484385.8207,1290476.5881999992 L 484496.4770999998,1290321.2127999999 L 484640.3521999996,1290215.3378999997 L 484809.6021999996,1289981.7127999999 L 485032.13379999995,1290359.0877999999 L 485542.2593,1290369.8380999994 L 485607.6656999998,1290371.2129999995 L 485907.2285000002,1290361.9628999997 L 485973.2284000004,1290359.9628999997 L 486396.54119999986,1290358.3379999995 L 486722.5728000002,1290359.4628999997 L 487428.47979999986,1290320.7128999997 L 487491.35500000045,1290322.9627 L 488152.19930000044,1290346.5877999999 L 488430.1057000002,1290344.2126 L 488710.41839999985,1290339.4627 L 488927.6687000003,1290344.4626 L 489062.73110000044,1290332.9625 L 489046.8876,1291511.7138999999 L 489070.98819999956,1291597.9351 L 488931.63889999967,1291696.3028999995 L 488864.6327999998,1291754.9451 L 488941.0303999996,1291944.2073 L 489084.4466000004,1292100.3662 L 489149.4939000001,1292436.8154 L 489541.5444,1292777.5898 L 489845.1383999996,1293037.84 L 490067.1699,1293309.5901999995 L 490127.29480000027,1293510.3403999992 L 490204.2324,1293915.9657 L 490287.5451999996,1294316.4662999995 L 490351.4826999996,1294487.9662999995 L 490471.5451999996,1294738.3416 L 490767.6079000002,1295105.3418 L 490906.79590000026,1295349.217 L 490967.17069999967,1295750.9675999992 L 491021.2647000002,1296226.593 L 491014.0147000002,1296575.0932999998 L 491017.0147000002,1296942.5935999993 L 491004.7336,1297398.219 L 491305.5462999996,1297406.3441 L 491536.14020000026,1297379.0938 z\" /></g></g></svg>",
      "text/plain": [
       "<shapely.geometry.multipolygon.MultiPolygon at 0x2626ba30048>"
      ]
     },
     "execution_count": 14,
     "metadata": {},
     "output_type": "execute_result"
    }
   ],
   "source": [
    "# Check the shape of each multipolygon or polygon by changing the number in the [] for the specific province\n",
    "data['geometry'][2] # or data.at[2, 'geometry']"
   ]
  },
  {
   "cell_type": "code",
   "execution_count": 15,
   "metadata": {},
   "outputs": [
    {
     "data": {
      "text/plain": [
       "684.3447598239339"
      ]
     },
     "execution_count": 15,
     "metadata": {},
     "output_type": "execute_result"
    }
   ],
   "source": [
    "# Calculate area of polygon in square km\n",
    "area_pp = data['geometry'][2].area/1000000\n",
    "area_pp"
   ]
  },
  {
   "cell_type": "code",
   "execution_count": 16,
   "metadata": {},
   "outputs": [
    {
     "name": "stdout",
     "output_type": "stream",
     "text": [
      "0    5295.150767\n",
      "1    3253.310484\n",
      "2     684.344760\n",
      "Name: area, dtype: float64\n"
     ]
    }
   ],
   "source": [
    "# Let's create a new column for area and calculate area of all polygons in km2 using dataframe.area \n",
    "data['area'] = data.area/1000000\n",
    "\n",
    "print(data['area'].head(3))"
   ]
  },
  {
   "cell_type": "markdown",
   "metadata": {},
   "source": [
    "Let’s check what is the min, max and mean of those areas using common functions we used to know."
   ]
  },
  {
   "cell_type": "code",
   "execution_count": 17,
   "metadata": {},
   "outputs": [
    {
     "name": "stdout",
     "output_type": "stream",
     "text": [
      "Max area: 14031.82\n",
      "Min area: 152.48\n",
      "Mean area: 7163.4\n"
     ]
    }
   ],
   "source": [
    "# Maximum area\n",
    "max_area = data['area'].max()\n",
    "\n",
    "# Minimum area\n",
    "min_area = data['area'].min()\n",
    "\n",
    "# Mean area\n",
    "mean_area = data['area'].mean()\n",
    "\n",
    "print(\"Max area: {max}\\nMin area: {min}\\nMean area: {mean}\".format(max=round(max_area, 2), \n",
    "                                                                   min=round(min_area, 2), \n",
    "                                                                   mean=round(mean_area, 2)))"
   ]
  },
  {
   "cell_type": "markdown",
   "metadata": {},
   "source": [
    "Let's try out a bit more difficult analysis :)"
   ]
  },
  {
   "cell_type": "markdown",
   "metadata": {},
   "source": [
    "***Problem:*** *Extract provinces with population density more than 20km2 and less than 100 km2 and plot them.*"
   ]
  },
  {
   "cell_type": "code",
   "execution_count": 18,
   "metadata": {},
   "outputs": [
    {
     "data": {
      "text/html": [
       "<div>\n",
       "<style scoped>\n",
       "    .dataframe tbody tr th:only-of-type {\n",
       "        vertical-align: middle;\n",
       "    }\n",
       "\n",
       "    .dataframe tbody tr th {\n",
       "        vertical-align: top;\n",
       "    }\n",
       "\n",
       "    .dataframe thead th {\n",
       "        text-align: right;\n",
       "    }\n",
       "</style>\n",
       "<table border=\"1\" class=\"dataframe\">\n",
       "  <thead>\n",
       "    <tr style=\"text-align: right;\">\n",
       "      <th></th>\n",
       "      <th>ogc_fid</th>\n",
       "      <th>pro_code</th>\n",
       "      <th>province_k</th>\n",
       "      <th>provinces</th>\n",
       "      <th>households</th>\n",
       "      <th>males</th>\n",
       "      <th>females</th>\n",
       "      <th>total</th>\n",
       "      <th>house_size</th>\n",
       "      <th>area_km2</th>\n",
       "      <th>pop_km2</th>\n",
       "      <th>reference</th>\n",
       "      <th>geometry</th>\n",
       "      <th>area</th>\n",
       "    </tr>\n",
       "  </thead>\n",
       "  <tbody>\n",
       "    <tr>\n",
       "      <th>0</th>\n",
       "      <td>1</td>\n",
       "      <td>4</td>\n",
       "      <td>កំពង់ឆ្នាំង</td>\n",
       "      <td>Kampong Chhnang</td>\n",
       "      <td>122925.0</td>\n",
       "      <td>251895.0</td>\n",
       "      <td>274037.0</td>\n",
       "      <td>525932.0</td>\n",
       "      <td>4.3</td>\n",
       "      <td>5521</td>\n",
       "      <td>95</td>\n",
       "      <td>Provisional_Population_Census__00.06.2019.pdf</td>\n",
       "      <td>MULTIPOLYGON (((440280.561 1383585.908, 440090...</td>\n",
       "      <td>5295.150767</td>\n",
       "    </tr>\n",
       "    <tr>\n",
       "      <th>1</th>\n",
       "      <td>2</td>\n",
       "      <td>8</td>\n",
       "      <td>កណ្តាល</td>\n",
       "      <td>Kandal</td>\n",
       "      <td>273111.0</td>\n",
       "      <td>580129.0</td>\n",
       "      <td>615418.0</td>\n",
       "      <td>1195547.0</td>\n",
       "      <td>4.4</td>\n",
       "      <td>3179</td>\n",
       "      <td>376</td>\n",
       "      <td>Provisional_Population_Census__00.06.2019.pdf</td>\n",
       "      <td>MULTIPOLYGON (((481223.477 1313362.233, 481407...</td>\n",
       "      <td>3253.310484</td>\n",
       "    </tr>\n",
       "    <tr>\n",
       "      <th>2</th>\n",
       "      <td>3</td>\n",
       "      <td>12</td>\n",
       "      <td>ភ្នំពេញ</td>\n",
       "      <td>Phnom Penh</td>\n",
       "      <td>399203.0</td>\n",
       "      <td>1039192.0</td>\n",
       "      <td>1090179.0</td>\n",
       "      <td>2129371.0</td>\n",
       "      <td>5.3</td>\n",
       "      <td>679</td>\n",
       "      <td>3136</td>\n",
       "      <td>Provisional_Population_Census__00.06.2019.pdf</td>\n",
       "      <td>MULTIPOLYGON (((491536.140 1297379.094, 491748...</td>\n",
       "      <td>684.344760</td>\n",
       "    </tr>\n",
       "    <tr>\n",
       "      <th>3</th>\n",
       "      <td>4</td>\n",
       "      <td>14</td>\n",
       "      <td>ព្រៃវែង</td>\n",
       "      <td>Prey Veng</td>\n",
       "      <td>227008.0</td>\n",
       "      <td>501346.0</td>\n",
       "      <td>556082.0</td>\n",
       "      <td>1057428.0</td>\n",
       "      <td>4.7</td>\n",
       "      <td>4883</td>\n",
       "      <td>217</td>\n",
       "      <td>Provisional_Population_Census__00.06.2019.pdf</td>\n",
       "      <td>MULTIPOLYGON (((536011.301 1311635.984, 536169...</td>\n",
       "      <td>4761.436372</td>\n",
       "    </tr>\n",
       "    <tr>\n",
       "      <th>4</th>\n",
       "      <td>5</td>\n",
       "      <td>20</td>\n",
       "      <td>ស្វាយរៀង</td>\n",
       "      <td>Svay Rieng</td>\n",
       "      <td>131937.0</td>\n",
       "      <td>249446.0</td>\n",
       "      <td>275108.0</td>\n",
       "      <td>524554.0</td>\n",
       "      <td>4.0</td>\n",
       "      <td>2966</td>\n",
       "      <td>177</td>\n",
       "      <td>Provisional_Population_Census__00.06.2019.pdf</td>\n",
       "      <td>MULTIPOLYGON (((587996.231 1282290.102, 588224...</td>\n",
       "      <td>2868.244685</td>\n",
       "    </tr>\n",
       "  </tbody>\n",
       "</table>\n",
       "</div>"
      ],
      "text/plain": [
       "   ogc_fid  pro_code   province_k        provinces  households      males  \\\n",
       "0        1         4  កំពង់ឆ្នាំង  Kampong Chhnang    122925.0   251895.0   \n",
       "1        2         8       កណ្តាល           Kandal    273111.0   580129.0   \n",
       "2        3        12      ភ្នំពេញ       Phnom Penh    399203.0  1039192.0   \n",
       "3        4        14      ព្រៃវែង        Prey Veng    227008.0   501346.0   \n",
       "4        5        20     ស្វាយរៀង       Svay Rieng    131937.0   249446.0   \n",
       "\n",
       "     females      total  house_size  area_km2  pop_km2  \\\n",
       "0   274037.0   525932.0         4.3      5521       95   \n",
       "1   615418.0  1195547.0         4.4      3179      376   \n",
       "2  1090179.0  2129371.0         5.3       679     3136   \n",
       "3   556082.0  1057428.0         4.7      4883      217   \n",
       "4   275108.0   524554.0         4.0      2966      177   \n",
       "\n",
       "                                       reference  \\\n",
       "0  Provisional_Population_Census__00.06.2019.pdf   \n",
       "1  Provisional_Population_Census__00.06.2019.pdf   \n",
       "2  Provisional_Population_Census__00.06.2019.pdf   \n",
       "3  Provisional_Population_Census__00.06.2019.pdf   \n",
       "4  Provisional_Population_Census__00.06.2019.pdf   \n",
       "\n",
       "                                            geometry         area  \n",
       "0  MULTIPOLYGON (((440280.561 1383585.908, 440090...  5295.150767  \n",
       "1  MULTIPOLYGON (((481223.477 1313362.233, 481407...  3253.310484  \n",
       "2  MULTIPOLYGON (((491536.140 1297379.094, 491748...   684.344760  \n",
       "3  MULTIPOLYGON (((536011.301 1311635.984, 536169...  4761.436372  \n",
       "4  MULTIPOLYGON (((587996.231 1282290.102, 588224...  2868.244685  "
      ]
     },
     "execution_count": 18,
     "metadata": {},
     "output_type": "execute_result"
    }
   ],
   "source": [
    "# Re-read the data\n",
    "data.head()"
   ]
  },
  {
   "cell_type": "code",
   "execution_count": 19,
   "metadata": {},
   "outputs": [
    {
     "name": "stdout",
     "output_type": "stream",
     "text": [
      "<class 'list'>\n"
     ]
    }
   ],
   "source": [
    "# Create a list for storing result\n",
    "result = []\n",
    "\n",
    "# Iterate over each row of our data\n",
    "for index, row in data.iterrows():\n",
    "    \n",
    "    # Set condition of density between 20 and 100\n",
    "    if 20 < row['pop_km2'] < 100:\n",
    "        \n",
    "        # Get the row info where the population density meets the condition and save it\n",
    "        result.append(row)\n",
    "\n",
    "print(type(result))"
   ]
  },
  {
   "cell_type": "markdown",
   "metadata": {},
   "source": [
    "Our result is saved as a list. Because we cannot plot a `list` of geometry, it is necessary to convert it to a `Geopandas` GeoDataFrame."
   ]
  },
  {
   "cell_type": "code",
   "execution_count": 20,
   "metadata": {},
   "outputs": [],
   "source": [
    "# Create GeoDataFrame from the list-typed result\n",
    "province_20_100 = gpd.GeoDataFrame(result, crs = 'EPSG:32648') # or quicker way: crs = data.crs"
   ]
  },
  {
   "cell_type": "markdown",
   "metadata": {},
   "source": [
    "So now, we can plot our result because it has been converted from a list to a geodataframe. Let's see how it looks:"
   ]
  },
  {
   "cell_type": "code",
   "execution_count": 21,
   "metadata": {},
   "outputs": [
    {
     "data": {
      "image/png": "[encoded data removed]",
      "text/plain": [
       "<Figure size 432x288 with 2 Axes>"
      ]
     },
     "metadata": {
      "needs_background": "light"
     },
     "output_type": "display_data"
    }
   ],
   "source": [
    "# Result plotting\n",
    "province_20_100.plot(column='pop_km2', legend=True, cmap='viridis');"
   ]
  },
  {
   "cell_type": "markdown",
   "metadata": {},
   "source": [
    "Congratulation! Now we have analyzed the shapefile data for first time in Python and plot the result perfectly. Isn't it interesting ?? \n",
    "\n",
    "Anyway, it's not yet enough. Let's learn how to export our result as a shapefile."
   ]
  },
  {
   "cell_type": "markdown",
   "metadata": {},
   "source": [
    "#### 1.c. Exporting Shapefile and GeoJSON"
   ]
  },
  {
   "cell_type": "markdown",
   "metadata": {},
   "source": [
    "In this section, we will learn how to write and export our result from Python."
   ]
  },
  {
   "cell_type": "markdown",
   "metadata": {},
   "source": [
    "Let's first export the result we analyzed above to a shapefile and a GeoJSON file. When exporting, make sure it's a geopandas dataframe with a correct projection. Because we have defined projection already, so we only just export it using `.to_file()`"
   ]
  },
  {
   "cell_type": "code",
   "execution_count": 22,
   "metadata": {},
   "outputs": [
    {
     "data": {
      "text/plain": [
       "'EPSG:32648'"
      ]
     },
     "execution_count": 22,
     "metadata": {},
     "output_type": "execute_result"
    }
   ],
   "source": [
    "# Confirm the crs of result that we want to export\n",
    "province_20_100.crs"
   ]
  },
  {
   "cell_type": "code",
   "execution_count": 23,
   "metadata": {},
   "outputs": [],
   "source": [
    "# Drop column in khmer langugage to avoid error due to unicode\n",
    "province_20_100 = province_20_100.drop(['province_k'], axis=1)"
   ]
  },
  {
   "cell_type": "code",
   "execution_count": 24,
   "metadata": {},
   "outputs": [],
   "source": [
    "# Export result as a shapefile\n",
    "outfp = 'result/province_20_100.shp'\n",
    "province_20_100.to_file(outfp, driver='Shapefile') # sometimes, you don't need to write driver='Shapefile'."
   ]
  },
  {
   "cell_type": "code",
   "execution_count": 25,
   "metadata": {},
   "outputs": [],
   "source": [
    "# Export result as a GeoJSON\n",
    "outfp = 'result/province_20_100.json'\n",
    "province_20_100.to_file(outfp, driver='GeoJSON')"
   ]
  },
  {
   "cell_type": "markdown",
   "metadata": {},
   "source": [
    "➡ We finally exported our result into shapefile and geojson file. So what's the difference? How about checking the font within column 'province_k' and also the number of files created in result folder?"
   ]
  },
  {
   "cell_type": "markdown",
   "metadata": {},
   "source": [
    "---"
   ]
  },
  {
   "cell_type": "markdown",
   "metadata": {},
   "source": [
    "### 2. Map Projection"
   ]
  },
  {
   "cell_type": "markdown",
   "metadata": {},
   "source": [
    "**Map projection** is a concept of tranforming points from three-dimensional Earth's surface (3D) into plane surface (2D). Whereas, a **coordinate reference system (CRS)** defines how the two-dimensional map relates to real places on the earth, and it is a very important information for analyzing a geodataframe in Python. Deciding the type of map projection and which CRS to use depends on the regional extent of the area you want to work in and on the analysis you want to do.\n",
    "\n",
    "When working on real data, sometimes you might have problem with CRS difference (i.e. one might have coordinates in meter, while the other in decimal degrees). In this case, CRS can be reprojected easily in Python to make all coordinates compatible. After all layers have the same CRS, you will be able to analyze the spatial relationship between layers correctly, for example, when making a clip, union, interection, difference, or other type of analysis.\n",
    "\n",
    "\n",
    "You can find a lot of information and lists of available coordinate reference systems from:\n",
    "\n",
    "* [www.arcgis.com](https://www.arcgis.com/apps/MapJournal/index.html?appid=31484c80dba54a058369dfb8e9ced549)\n",
    "* www.spatialreference.org\n",
    "* www.proj4.org\n",
    "* www.mapref.org"
   ]
  },
  {
   "cell_type": "markdown",
   "metadata": {},
   "source": [
    "In analysis in Python or GIS applications, geospatial data (i.e. vector or raster files) should always contain information about coordinate reference system. As for shapefile, this information can be found in `.prj` -file, whereas other type of data such as GeoJSON or Raster files, the projection information is already stored in its metadata (of course if the files is properly projected). \n",
    "\n",
    "When using Geopandas to read the data into `GeoDataFrame`, the information about projection is stored in `.crs` attribute of the GeoDataFrame. \n",
    "\n",
    "- Now, let's work on projection of provincial census data and start by checking the `.crs`:"
   ]
  },
  {
   "cell_type": "code",
   "execution_count": 26,
   "metadata": {},
   "outputs": [],
   "source": [
    "# Import necessary modules\n",
    "import geopandas as gpd\n",
    "\n",
    "# Set filepath\n",
    "fp = \"data/provisional_census2019/provisional_census2019.shp\"\n",
    "\n",
    "# Read file using gpd.read_file()\n",
    "data = gpd.read_file(fp)"
   ]
  },
  {
   "cell_type": "markdown",
   "metadata": {},
   "source": [
    "**Check coordinate reference system (CRS)**"
   ]
  },
  {
   "cell_type": "code",
   "execution_count": 27,
   "metadata": {},
   "outputs": [
    {
     "data": {
      "text/plain": [
       "{'init': 'epsg:32648'}"
      ]
     },
     "execution_count": 27,
     "metadata": {},
     "output_type": "execute_result"
    }
   ],
   "source": [
    "# Check the coordinate reference system\n",
    "data.crs"
   ]
  },
  {
   "cell_type": "code",
   "execution_count": 28,
   "metadata": {},
   "outputs": [
    {
     "data": {
      "text/plain": [
       "dict"
      ]
     },
     "execution_count": 28,
     "metadata": {},
     "output_type": "execute_result"
    }
   ],
   "source": [
    "type(data.crs)"
   ]
  },
  {
   "cell_type": "markdown",
   "metadata": {},
   "source": [
    "This is how data's crs is stored in GeoDataFrames with the class type `pyproj` which is a cartographic projections and coordinate transformations library. As you can see, the crs code is `EPSG:32648` which belongs to the WGS 84 /UTM zone 48N coordinate system (i.e. coordinates are in metre both East and North). The EPSG stands for (*European Petroleum Survey Group*) and tells us the code about the coordinate system of dataset."
   ]
  },
  {
   "cell_type": "markdown",
   "metadata": {},
   "source": [
    "**Re-project coordinate reference system**"
   ]
  },
  {
   "cell_type": "code",
   "execution_count": 29,
   "metadata": {},
   "outputs": [
    {
     "data": {
      "text/plain": [
       "20    POLYGON ((569781.983 1358558.625, 570417.373 1...\n",
       "21    POLYGON ((644221.694 1481668.343, 644419.819 1...\n",
       "22    POLYGON ((663909.945 1476792.235, 664134.383 1...\n",
       "23    POLYGON ((773959.354 1625122.155, 774046.041 1...\n",
       "24    POLYGON ((666331.270 1613878.300, 666441.020 1...\n",
       "Name: geometry, dtype: geometry"
      ]
     },
     "execution_count": 29,
     "metadata": {},
     "output_type": "execute_result"
    }
   ],
   "source": [
    "data['geometry'].tail()"
   ]
  },
  {
   "cell_type": "code",
   "execution_count": 30,
   "metadata": {},
   "outputs": [
    {
     "name": "stderr",
     "output_type": "stream",
     "text": [
      "C:\\Users\\a9418\\AppData\\Roaming\\Python\\Python37\\site-packages\\pyproj\\crs\\crs.py:68: FutureWarning: '+init=<authority>:<code>' syntax is deprecated. '<authority>:<code>' is the preferred initialization method. When making the change, be mindful of axis order changes: https://pyproj4.github.io/pyproj/stable/gotchas.html#axis-order-changes-in-proj-6\n",
      "  return _prepare_from_string(\" \".join(pjargs))\n"
     ]
    },
    {
     "data": {
      "text/plain": [
       "20    POLYGON ((105.64171 12.28868, 105.64754 12.285...\n",
       "21    POLYGON ((106.33200 13.39918, 106.33383 13.399...\n",
       "22    POLYGON ((106.51352 13.35408, 106.51559 13.353...\n",
       "23    POLYGON ((107.54387 14.68585, 107.54467 14.685...\n",
       "24    POLYGON ((106.54411 14.59302, 106.54513 14.591...\n",
       "Name: geometry, dtype: geometry"
      ]
     },
     "execution_count": 30,
     "metadata": {},
     "output_type": "execute_result"
    }
   ],
   "source": [
    "# Let's make a copy of our data\n",
    "orig_crs = data.copy().drop(['province_k'], axis=1)\n",
    "\n",
    "# Re-project from EPSG:32648 to EPSG:4326 \n",
    "new_crs = orig_crs.to_crs(epsg=4326)\n",
    "\n",
    "# Check the new projection\n",
    "new_crs['geometry'].tail()"
   ]
  },
  {
   "cell_type": "markdown",
   "metadata": {},
   "source": [
    "So now we have finally changed the projection of our data from [epsg:32648](https://www.spatialreference.org/ref/epsg/32648/) which covers the area in N hemisphere - 102°E to 108°E -  to [epsg:4326](https://www.spatialreference.org/ref/epsg/4326/) which covers the whole world."
   ]
  },
  {
   "cell_type": "markdown",
   "metadata": {},
   "source": [
    "**Check the difference of projection in plot**"
   ]
  },
  {
   "cell_type": "markdown",
   "metadata": {},
   "source": [
    "Let's finding out what happened when we changed the projection from one to another by plotting our data with original crs and new crs."
   ]
  },
  {
   "cell_type": "code",
   "execution_count": 31,
   "metadata": {},
   "outputs": [],
   "source": [
    "# Import necessary module\n",
    "import matplotlib.pyplot as plt"
   ]
  },
  {
   "cell_type": "code",
   "execution_count": 32,
   "metadata": {},
   "outputs": [
    {
     "data": {
      "image/png": "[encoded data removed]",
      "text/plain": [
       "<Figure size 576x360 with 2 Axes>"
      ]
     },
     "metadata": {
      "needs_background": "light"
     },
     "output_type": "display_data"
    }
   ],
   "source": [
    "# Make subplots that are next to each other\n",
    "fig, (ax1, ax2) = plt.subplots(nrows=1, ncols=2, figsize=(8, 5))\n",
    "\n",
    "# Plot the data in WGS84-Cambodia projection\n",
    "orig_crs.plot(ax=ax1, facecolor='green', edgecolor=\"black\");\n",
    "\n",
    "# Add title\n",
    "ax1.set_title(\"WGS 84 / UTM zone 48N - Cambodia\");\n",
    "\n",
    "# Plot the one with WGS84-World projection\n",
    "new_crs.plot(ax=ax2, facecolor='#6495ED', edgecolor=\"black\");\n",
    "\n",
    "# Add title\n",
    "ax2.set_title(\"WGS 84 - World\");\n",
    "\n",
    "# Remove empty white space around the plot\n",
    "plt.tight_layout()"
   ]
  },
  {
   "cell_type": "markdown",
   "metadata": {},
   "source": [
    "Now, we can see that our new map's latitude and longitude have changed from meter to decimal degree. \n",
    "\n",
    "Let's save the data in new projection as a GeoJSON file:"
   ]
  },
  {
   "cell_type": "code",
   "execution_count": 33,
   "metadata": {},
   "outputs": [],
   "source": [
    "# Define output path\n",
    "outfp = 'result/cambodia_census_epsg4326.json'\n",
    "\n",
    "# Save file\n",
    "new_crs.to_file(outfp, driver='GeoJSON')"
   ]
  },
  {
   "cell_type": "markdown",
   "metadata": {},
   "source": [
    "---"
   ]
  },
  {
   "cell_type": "markdown",
   "metadata": {},
   "source": [
    "#### Practice"
   ]
  },
  {
   "cell_type": "markdown",
   "metadata": {},
   "source": [
    "Let's learn how to calculate the distance from the centre of one province to another province. \n",
    "\n",
    "In this pratical exercise, we will use `cambodia_census_epsg4326.json` -file which we have just saved as our input data. The purpose is to calculate Euclidean distance from the centroid or center point of Phnom Penh to that of all provinces, Cambodia. After that, we find what provinces are near and far from Phnom Penh city.\n",
    "\n",
    "**Hint**: \n",
    "- `.centroid` for calculating the centroid of a polygon\n",
    "- `.distance()` for calculating the distance from one point to another\n",
    "\n",
    "Back to shapely documentation for details about how to use these fuciton: [Shapely](https://shapely.readthedocs.io/en/stable/manual.html)"
   ]
  },
  {
   "cell_type": "code",
   "execution_count": 34,
   "metadata": {},
   "outputs": [],
   "source": [
    "# Import necessary module\n",
    "import geopandas as gpd\n",
    "import matplotlib.pyplot as plt"
   ]
  },
  {
   "cell_type": "code",
   "execution_count": 35,
   "metadata": {},
   "outputs": [
    {
     "data": {
      "text/html": [
       "<div>\n",
       "<style scoped>\n",
       "    .dataframe tbody tr th:only-of-type {\n",
       "        vertical-align: middle;\n",
       "    }\n",
       "\n",
       "    .dataframe tbody tr th {\n",
       "        vertical-align: top;\n",
       "    }\n",
       "\n",
       "    .dataframe thead th {\n",
       "        text-align: right;\n",
       "    }\n",
       "</style>\n",
       "<table border=\"1\" class=\"dataframe\">\n",
       "  <thead>\n",
       "    <tr style=\"text-align: right;\">\n",
       "      <th></th>\n",
       "      <th>ogc_fid</th>\n",
       "      <th>pro_code</th>\n",
       "      <th>provinces</th>\n",
       "      <th>households</th>\n",
       "      <th>males</th>\n",
       "      <th>females</th>\n",
       "      <th>total</th>\n",
       "      <th>house_size</th>\n",
       "      <th>area_km2</th>\n",
       "      <th>pop_km2</th>\n",
       "      <th>reference</th>\n",
       "      <th>geometry</th>\n",
       "    </tr>\n",
       "  </thead>\n",
       "  <tbody>\n",
       "    <tr>\n",
       "      <th>0</th>\n",
       "      <td>1</td>\n",
       "      <td>4</td>\n",
       "      <td>Kampong Chhnang</td>\n",
       "      <td>122925.0</td>\n",
       "      <td>251895.0</td>\n",
       "      <td>274037.0</td>\n",
       "      <td>525932.0</td>\n",
       "      <td>4.3</td>\n",
       "      <td>5521</td>\n",
       "      <td>95</td>\n",
       "      <td>Provisional_Population_Census__00.06.2019.pdf</td>\n",
       "      <td>MULTIPOLYGON (((104.45035 12.51519, 104.44859 ...</td>\n",
       "    </tr>\n",
       "    <tr>\n",
       "      <th>1</th>\n",
       "      <td>2</td>\n",
       "      <td>8</td>\n",
       "      <td>Kandal</td>\n",
       "      <td>273111.0</td>\n",
       "      <td>580129.0</td>\n",
       "      <td>615418.0</td>\n",
       "      <td>1195547.0</td>\n",
       "      <td>4.4</td>\n",
       "      <td>3179</td>\n",
       "      <td>376</td>\n",
       "      <td>Provisional_Population_Census__00.06.2019.pdf</td>\n",
       "      <td>POLYGON ((104.82759 11.88065, 104.82928 11.878...</td>\n",
       "    </tr>\n",
       "    <tr>\n",
       "      <th>2</th>\n",
       "      <td>3</td>\n",
       "      <td>12</td>\n",
       "      <td>Phnom Penh</td>\n",
       "      <td>399203.0</td>\n",
       "      <td>1039192.0</td>\n",
       "      <td>1090179.0</td>\n",
       "      <td>2129371.0</td>\n",
       "      <td>5.3</td>\n",
       "      <td>679</td>\n",
       "      <td>3136</td>\n",
       "      <td>Provisional_Population_Census__00.06.2019.pdf</td>\n",
       "      <td>POLYGON ((104.92232 11.73615, 104.92428 11.736...</td>\n",
       "    </tr>\n",
       "  </tbody>\n",
       "</table>\n",
       "</div>"
      ],
      "text/plain": [
       "   ogc_fid  pro_code        provinces  households      males    females  \\\n",
       "0        1         4  Kampong Chhnang    122925.0   251895.0   274037.0   \n",
       "1        2         8           Kandal    273111.0   580129.0   615418.0   \n",
       "2        3        12       Phnom Penh    399203.0  1039192.0  1090179.0   \n",
       "\n",
       "       total  house_size  area_km2  pop_km2  \\\n",
       "0   525932.0         4.3      5521       95   \n",
       "1  1195547.0         4.4      3179      376   \n",
       "2  2129371.0         5.3       679     3136   \n",
       "\n",
       "                                       reference  \\\n",
       "0  Provisional_Population_Census__00.06.2019.pdf   \n",
       "1  Provisional_Population_Census__00.06.2019.pdf   \n",
       "2  Provisional_Population_Census__00.06.2019.pdf   \n",
       "\n",
       "                                            geometry  \n",
       "0  MULTIPOLYGON (((104.45035 12.51519, 104.44859 ...  \n",
       "1  POLYGON ((104.82759 11.88065, 104.82928 11.878...  \n",
       "2  POLYGON ((104.92232 11.73615, 104.92428 11.736...  "
      ]
     },
     "execution_count": 35,
     "metadata": {},
     "output_type": "execute_result"
    }
   ],
   "source": [
    "# import our input data from result folder\n",
    "fp = 'result/cambodia_census_epsg4326.json'\n",
    "df = gpd.read_file(fp)  \n",
    "\n",
    "df.head(3)"
   ]
  },
  {
   "cell_type": "markdown",
   "metadata": {},
   "source": [
    "If we take a look at the latitude and longtitude of our coordinate, they are still in decimal degree which is not appropriate format for calculating distance in meter. Therefore, it's better to convert this crs to another type of crs with latitude and longitude in meter. Do you remember what crs should be used for this data?\n",
    "\n",
    "Now, let's work on re-projecting our data:"
   ]
  },
  {
   "cell_type": "code",
   "execution_count": 36,
   "metadata": {},
   "outputs": [
    {
     "data": {
      "text/plain": [
       "{'init': 'epsg:4326'}"
      ]
     },
     "execution_count": 36,
     "metadata": {},
     "output_type": "execute_result"
    }
   ],
   "source": [
    "# check the coordinates of our data\n",
    "df.crs"
   ]
  },
  {
   "cell_type": "code",
   "execution_count": 37,
   "metadata": {},
   "outputs": [
    {
     "name": "stderr",
     "output_type": "stream",
     "text": [
      "C:\\Users\\a9418\\AppData\\Roaming\\Python\\Python37\\site-packages\\pyproj\\crs\\crs.py:68: FutureWarning: '+init=<authority>:<code>' syntax is deprecated. '<authority>:<code>' is the preferred initialization method. When making the change, be mindful of axis order changes: https://pyproj4.github.io/pyproj/stable/gotchas.html#axis-order-changes-in-proj-6\n",
      "  return _prepare_from_string(\" \".join(pjargs))\n"
     ]
    },
    {
     "data": {
      "text/plain": [
       "{'init': 'epsg:32648', 'no_defs': True}"
      ]
     },
     "execution_count": 37,
     "metadata": {},
     "output_type": "execute_result"
    }
   ],
   "source": [
    "# change the coordinates to Cambodia coordinate system\n",
    "df_new_crs = df.to_crs(epsg=32648)\n",
    "\n",
    "# check new coordinate system\n",
    "df_new_crs.crs"
   ]
  },
  {
   "cell_type": "code",
   "execution_count": 38,
   "metadata": {},
   "outputs": [
    {
     "data": {
      "text/html": [
       "<div>\n",
       "<style scoped>\n",
       "    .dataframe tbody tr th:only-of-type {\n",
       "        vertical-align: middle;\n",
       "    }\n",
       "\n",
       "    .dataframe tbody tr th {\n",
       "        vertical-align: top;\n",
       "    }\n",
       "\n",
       "    .dataframe thead th {\n",
       "        text-align: right;\n",
       "    }\n",
       "</style>\n",
       "<table border=\"1\" class=\"dataframe\">\n",
       "  <thead>\n",
       "    <tr style=\"text-align: right;\">\n",
       "      <th></th>\n",
       "      <th>ogc_fid</th>\n",
       "      <th>pro_code</th>\n",
       "      <th>provinces</th>\n",
       "      <th>households</th>\n",
       "      <th>males</th>\n",
       "      <th>females</th>\n",
       "      <th>total</th>\n",
       "      <th>house_size</th>\n",
       "      <th>area_km2</th>\n",
       "      <th>pop_km2</th>\n",
       "      <th>reference</th>\n",
       "      <th>geometry</th>\n",
       "      <th>centroid</th>\n",
       "    </tr>\n",
       "  </thead>\n",
       "  <tbody>\n",
       "    <tr>\n",
       "      <th>0</th>\n",
       "      <td>1</td>\n",
       "      <td>4</td>\n",
       "      <td>Kampong Chhnang</td>\n",
       "      <td>122925.0</td>\n",
       "      <td>251895.0</td>\n",
       "      <td>274037.0</td>\n",
       "      <td>525932.0</td>\n",
       "      <td>4.3</td>\n",
       "      <td>5521</td>\n",
       "      <td>95</td>\n",
       "      <td>Provisional_Population_Census__00.06.2019.pdf</td>\n",
       "      <td>MULTIPOLYGON (((440280.561 1383585.909, 440090...</td>\n",
       "      <td>POINT (452120.014 1344277.437)</td>\n",
       "    </tr>\n",
       "    <tr>\n",
       "      <th>1</th>\n",
       "      <td>2</td>\n",
       "      <td>8</td>\n",
       "      <td>Kandal</td>\n",
       "      <td>273111.0</td>\n",
       "      <td>580129.0</td>\n",
       "      <td>615418.0</td>\n",
       "      <td>1195547.0</td>\n",
       "      <td>4.4</td>\n",
       "      <td>3179</td>\n",
       "      <td>376</td>\n",
       "      <td>Provisional_Population_Census__00.06.2019.pdf</td>\n",
       "      <td>POLYGON ((481223.477 1313362.233, 481407.227 1...</td>\n",
       "      <td>POINT (501957.039 1262761.786)</td>\n",
       "    </tr>\n",
       "    <tr>\n",
       "      <th>2</th>\n",
       "      <td>3</td>\n",
       "      <td>12</td>\n",
       "      <td>Phnom Penh</td>\n",
       "      <td>399203.0</td>\n",
       "      <td>1039192.0</td>\n",
       "      <td>1090179.0</td>\n",
       "      <td>2129371.0</td>\n",
       "      <td>5.3</td>\n",
       "      <td>679</td>\n",
       "      <td>3136</td>\n",
       "      <td>Provisional_Population_Census__00.06.2019.pdf</td>\n",
       "      <td>POLYGON ((491536.140 1297379.094, 491748.953 1...</td>\n",
       "      <td>POINT (485297.045 1278224.175)</td>\n",
       "    </tr>\n",
       "  </tbody>\n",
       "</table>\n",
       "</div>"
      ],
      "text/plain": [
       "   ogc_fid  pro_code        provinces  households      males    females  \\\n",
       "0        1         4  Kampong Chhnang    122925.0   251895.0   274037.0   \n",
       "1        2         8           Kandal    273111.0   580129.0   615418.0   \n",
       "2        3        12       Phnom Penh    399203.0  1039192.0  1090179.0   \n",
       "\n",
       "       total  house_size  area_km2  pop_km2  \\\n",
       "0   525932.0         4.3      5521       95   \n",
       "1  1195547.0         4.4      3179      376   \n",
       "2  2129371.0         5.3       679     3136   \n",
       "\n",
       "                                       reference  \\\n",
       "0  Provisional_Population_Census__00.06.2019.pdf   \n",
       "1  Provisional_Population_Census__00.06.2019.pdf   \n",
       "2  Provisional_Population_Census__00.06.2019.pdf   \n",
       "\n",
       "                                            geometry  \\\n",
       "0  MULTIPOLYGON (((440280.561 1383585.909, 440090...   \n",
       "1  POLYGON ((481223.477 1313362.233, 481407.227 1...   \n",
       "2  POLYGON ((491536.140 1297379.094, 491748.953 1...   \n",
       "\n",
       "                         centroid  \n",
       "0  POINT (452120.014 1344277.437)  \n",
       "1  POINT (501957.039 1262761.786)  \n",
       "2  POINT (485297.045 1278224.175)  "
      ]
     },
     "execution_count": 38,
     "metadata": {},
     "output_type": "execute_result"
    }
   ],
   "source": [
    "# Let's create a column for storing the centroid result\n",
    "df_new_crs['centroid'] = None\n",
    "\n",
    "# calculate the centroid \n",
    "centroid = df_new_crs.centroid\n",
    "\n",
    "# add centroid result to the centroid column\n",
    "df_new_crs['centroid'] = centroid\n",
    "\n",
    "# Let's check our result\n",
    "df_new_crs.head(3)"
   ]
  },
  {
   "cell_type": "markdown",
   "metadata": {},
   "source": [
    "Let's make an overview plot to clarify what we will do next"
   ]
  },
  {
   "cell_type": "code",
   "execution_count": 39,
   "metadata": {},
   "outputs": [
    {
     "data": {
      "image/png": "[encoded data removed]",
      "text/plain": [
       "<Figure size 864x576 with 1 Axes>"
      ]
     },
     "metadata": {
      "needs_background": "light"
     },
     "output_type": "display_data"
    }
   ],
   "source": [
    "# Make subplots that are next to each other\n",
    "fig, ax = plt.subplots(figsize=(12, 8))\n",
    "\n",
    "# Plot the geometry and the centroid\n",
    "df_new_crs['geometry'].plot(ax=ax, facecolor = 'grey', edgecolor=\"black\")\n",
    "\n",
    "# Add label name of each polygon\n",
    "for i in range(len(df_new_crs)):\n",
    "    ax.text(df_new_crs[\"centroid\"][i].x,\n",
    "            df_new_crs[\"centroid\"][i].y+9000,\n",
    "            df_new_crs[\"provinces\"][i],\n",
    "            horizontalalignment='center',\n",
    "            color='yellow',\n",
    "            fontsize=7)\n",
    "plt.show();"
   ]
  },
  {
   "cell_type": "markdown",
   "metadata": {},
   "source": [
    "Next, our goal is to calculate the Euclidean distance from the center of Phnom Penh to all provinces. To do that, we need to firstly create a centroid of Phnom Penh and then calculate the distance from that centroid to another centroid of polygon representing the boundary of a province. Importantly, we need to make a loop for calculating one by one polygon and store result of each calculation in an list. \n",
    "\n",
    "Let's get started:"
   ]
  },
  {
   "cell_type": "code",
   "execution_count": 40,
   "metadata": {},
   "outputs": [],
   "source": [
    "# Extracting centroid of Phnom Penh\n",
    "pp_centroid = df_new_crs.loc[df_new_crs['provinces'] == 'Phnom Penh']\n",
    "\n",
    "# Remove the row of Phnom Penh from dataframe because we don't want to calculate its own distance (of course it's 0.0.)\n",
    "df_new_crs.drop(df_new_crs.index[df_new_crs['provinces'] == 'Phnom Penh'], inplace = True)\n",
    "df_new_crs = df_new_crs.reset_index()  # reset index of data frame"
   ]
  },
  {
   "cell_type": "markdown",
   "metadata": {},
   "source": [
    "**Create a loop calculation**"
   ]
  },
  {
   "cell_type": "code",
   "execution_count": 41,
   "metadata": {},
   "outputs": [],
   "source": [
    "# Create a list for stroing result\n",
    "distance = []\n",
    "\n",
    "# Create a loop to calculate each row of dataframe\n",
    "for i in range(len(df_new_crs)):\n",
    "    \n",
    "    # calculate distance from phnom penh to another province\n",
    "    distance_from_pp = pp_centroid['centroid'].values[0].distance(df_new_crs['centroid'][i])\n",
    "    \n",
    "    # convert distance from meter to kilometer\n",
    "    distance_in_km = distance_from_pp/1000\n",
    "    \n",
    "    # store each result in the list\n",
    "    distance.append(distance_in_km)"
   ]
  },
  {
   "cell_type": "code",
   "execution_count": 42,
   "metadata": {},
   "outputs": [
    {
     "data": {
      "text/html": [
       "<div>\n",
       "<style scoped>\n",
       "    .dataframe tbody tr th:only-of-type {\n",
       "        vertical-align: middle;\n",
       "    }\n",
       "\n",
       "    .dataframe tbody tr th {\n",
       "        vertical-align: top;\n",
       "    }\n",
       "\n",
       "    .dataframe thead th {\n",
       "        text-align: right;\n",
       "    }\n",
       "</style>\n",
       "<table border=\"1\" class=\"dataframe\">\n",
       "  <thead>\n",
       "    <tr style=\"text-align: right;\">\n",
       "      <th></th>\n",
       "      <th>index</th>\n",
       "      <th>ogc_fid</th>\n",
       "      <th>pro_code</th>\n",
       "      <th>provinces</th>\n",
       "      <th>households</th>\n",
       "      <th>males</th>\n",
       "      <th>females</th>\n",
       "      <th>total</th>\n",
       "      <th>house_size</th>\n",
       "      <th>area_km2</th>\n",
       "      <th>pop_km2</th>\n",
       "      <th>reference</th>\n",
       "      <th>geometry</th>\n",
       "      <th>centroid</th>\n",
       "      <th>distance</th>\n",
       "    </tr>\n",
       "  </thead>\n",
       "  <tbody>\n",
       "    <tr>\n",
       "      <th>0</th>\n",
       "      <td>0</td>\n",
       "      <td>1</td>\n",
       "      <td>4</td>\n",
       "      <td>Kampong Chhnang</td>\n",
       "      <td>122925.0</td>\n",
       "      <td>251895.0</td>\n",
       "      <td>274037.0</td>\n",
       "      <td>525932.0</td>\n",
       "      <td>4.3</td>\n",
       "      <td>5521</td>\n",
       "      <td>95</td>\n",
       "      <td>Provisional_Population_Census__00.06.2019.pdf</td>\n",
       "      <td>MULTIPOLYGON (((440280.561 1383585.909, 440090...</td>\n",
       "      <td>POINT (452120.014 1344277.437)</td>\n",
       "      <td>73.917175</td>\n",
       "    </tr>\n",
       "    <tr>\n",
       "      <th>1</th>\n",
       "      <td>1</td>\n",
       "      <td>2</td>\n",
       "      <td>8</td>\n",
       "      <td>Kandal</td>\n",
       "      <td>273111.0</td>\n",
       "      <td>580129.0</td>\n",
       "      <td>615418.0</td>\n",
       "      <td>1195547.0</td>\n",
       "      <td>4.4</td>\n",
       "      <td>3179</td>\n",
       "      <td>376</td>\n",
       "      <td>Provisional_Population_Census__00.06.2019.pdf</td>\n",
       "      <td>POLYGON ((481223.477 1313362.233, 481407.227 1...</td>\n",
       "      <td>POINT (501957.039 1262761.786)</td>\n",
       "      <td>22.729735</td>\n",
       "    </tr>\n",
       "    <tr>\n",
       "      <th>2</th>\n",
       "      <td>3</td>\n",
       "      <td>4</td>\n",
       "      <td>14</td>\n",
       "      <td>Prey Veng</td>\n",
       "      <td>227008.0</td>\n",
       "      <td>501346.0</td>\n",
       "      <td>556082.0</td>\n",
       "      <td>1057428.0</td>\n",
       "      <td>4.7</td>\n",
       "      <td>4883</td>\n",
       "      <td>217</td>\n",
       "      <td>Provisional_Population_Census__00.06.2019.pdf</td>\n",
       "      <td>POLYGON ((536011.301 1311635.984, 536169.301 1...</td>\n",
       "      <td>POINT (546308.957 1259850.296)</td>\n",
       "      <td>63.718544</td>\n",
       "    </tr>\n",
       "  </tbody>\n",
       "</table>\n",
       "</div>"
      ],
      "text/plain": [
       "   index  ogc_fid  pro_code        provinces  households     males   females  \\\n",
       "0      0        1         4  Kampong Chhnang    122925.0  251895.0  274037.0   \n",
       "1      1        2         8           Kandal    273111.0  580129.0  615418.0   \n",
       "2      3        4        14        Prey Veng    227008.0  501346.0  556082.0   \n",
       "\n",
       "       total  house_size  area_km2  pop_km2  \\\n",
       "0   525932.0         4.3      5521       95   \n",
       "1  1195547.0         4.4      3179      376   \n",
       "2  1057428.0         4.7      4883      217   \n",
       "\n",
       "                                       reference  \\\n",
       "0  Provisional_Population_Census__00.06.2019.pdf   \n",
       "1  Provisional_Population_Census__00.06.2019.pdf   \n",
       "2  Provisional_Population_Census__00.06.2019.pdf   \n",
       "\n",
       "                                            geometry  \\\n",
       "0  MULTIPOLYGON (((440280.561 1383585.909, 440090...   \n",
       "1  POLYGON ((481223.477 1313362.233, 481407.227 1...   \n",
       "2  POLYGON ((536011.301 1311635.984, 536169.301 1...   \n",
       "\n",
       "                         centroid   distance  \n",
       "0  POINT (452120.014 1344277.437)  73.917175  \n",
       "1  POINT (501957.039 1262761.786)  22.729735  \n",
       "2  POINT (546308.957 1259850.296)  63.718544  "
      ]
     },
     "execution_count": 42,
     "metadata": {},
     "output_type": "execute_result"
    }
   ],
   "source": [
    "# Let's create a column and store the distance result\n",
    "df_new_crs['distance'] = distance\n",
    "\n",
    "# Let's check our result\n",
    "df_new_crs.head(3)"
   ]
  },
  {
   "cell_type": "code",
   "execution_count": 43,
   "metadata": {},
   "outputs": [
    {
     "name": "stdout",
     "output_type": "stream",
     "text": [
      "22.729735303077444 km\n",
      "345.3761963080783 km\n"
     ]
    }
   ],
   "source": [
    "# minimum distance\n",
    "min_distance = df_new_crs['distance'].min()\n",
    "# maximum distance\n",
    "max_distance = df_new_crs['distance'].max()\n",
    "\n",
    "print(min_distance, 'km')\n",
    "print(max_distance, 'km')"
   ]
  },
  {
   "cell_type": "markdown",
   "metadata": {},
   "source": [
    "**Nearest and furthest provinces from Phnom Penh**"
   ]
  },
  {
   "cell_type": "code",
   "execution_count": 44,
   "metadata": {},
   "outputs": [],
   "source": [
    "# get the name of province of max and min distance\n",
    "min_province = df_new_crs['provinces'].loc[df_new_crs['distance'].idxmin()]\n",
    "max_province = df_new_crs['provinces'].loc[df_new_crs['distance'].idxmax()]"
   ]
  },
  {
   "cell_type": "markdown",
   "metadata": {},
   "source": [
    "*Note: check how to use [.idxmin()](https://www.kite.com/python/answers/how-to-find-the-max-value-of-a-pandas-dataframe-column-in-python) or [idxmax()](https://www.kite.com/python/answers/how-to-find-the-max-value-of-a-pandas-dataframe-column-in-python)* "
   ]
  },
  {
   "cell_type": "code",
   "execution_count": 45,
   "metadata": {},
   "outputs": [
    {
     "name": "stdout",
     "output_type": "stream",
     "text": [
      "The nearest province to Phnom Penh is Kandal Province with distance of 22.730 km.\n",
      "The furthest province to Phnom Penh is Ratanak Kiri Province with distance of 345.376 km.\n"
     ]
    }
   ],
   "source": [
    "print('The nearest province to Phnom Penh is', min_province, 'Province with distance of {dist:.3f} km.'.format(dist=min_distance)) \n",
    "print('The furthest province to Phnom Penh is', max_province, 'Province with distance of {dist:.3f} km.'.format(dist=max_distance))"
   ]
  },
  {
   "cell_type": "markdown",
   "metadata": {},
   "source": [
    "#### Others"
   ]
  },
  {
   "cell_type": "markdown",
   "metadata": {},
   "source": [
    "**Reading KML files**"
   ]
  },
  {
   "cell_type": "markdown",
   "metadata": {},
   "source": [
    "The way to read KML files is quite similar to how we read a Shapefile with GeoPandas. The only difference is that we have to enable the KML-driver as it's not enabled by default. KML file formats can be read by using the Python library `Geopandas` and `Fiona`. First method can done with this method: [Read a KML File into a GeoPandas DataFrame](https://docs.astraea.earth/hc/en-us/articles/360043923831-Read-a-KML-File-into-a-GeoPandas-DataFrame)"
   ]
  },
  {
   "cell_type": "code",
   "execution_count": 46,
   "metadata": {},
   "outputs": [
    {
     "data": {
      "text/plain": [
       "{'AeronavFAA': 'r',\n",
       " 'ARCGEN': 'r',\n",
       " 'BNA': 'raw',\n",
       " 'DXF': 'raw',\n",
       " 'CSV': 'raw',\n",
       " 'OpenFileGDB': 'r',\n",
       " 'ESRI Shapefile': 'raw',\n",
       " 'GeoJSON': 'rw',\n",
       " 'GPKG': 'rw',\n",
       " 'GML': 'raw',\n",
       " 'GPX': 'raw',\n",
       " 'GPSTrackMaker': 'raw',\n",
       " 'Idrisi': 'r',\n",
       " 'MapInfo File': 'raw',\n",
       " 'DGN': 'raw',\n",
       " 'PCIDSK': 'r',\n",
       " 'S57': 'r',\n",
       " 'SEGY': 'r',\n",
       " 'SUA': 'r'}"
      ]
     },
     "execution_count": 46,
     "metadata": {},
     "output_type": "execute_result"
    }
   ],
   "source": [
    "import geopandas as gpd\n",
    "gpd.io.file.fiona.drvsupport.supported_drivers"
   ]
  },
  {
   "cell_type": "markdown",
   "metadata": {},
   "source": [
    "Enable the KML-driver by passing the fiona's supported driver of KML"
   ]
  },
  {
   "cell_type": "code",
   "execution_count": 47,
   "metadata": {},
   "outputs": [],
   "source": [
    "gpd.io.file.fiona.drvsupport.supported_drivers['KML'] = 'rw'"
   ]
  },
  {
   "cell_type": "markdown",
   "metadata": {},
   "source": [
    "Now, we have enabled the KML-driver, so let's read the kml file:"
   ]
  },
  {
   "cell_type": "code",
   "execution_count": 48,
   "metadata": {},
   "outputs": [
    {
     "data": {
      "text/html": [
       "<div>\n",
       "<style scoped>\n",
       "    .dataframe tbody tr th:only-of-type {\n",
       "        vertical-align: middle;\n",
       "    }\n",
       "\n",
       "    .dataframe tbody tr th {\n",
       "        vertical-align: top;\n",
       "    }\n",
       "\n",
       "    .dataframe thead th {\n",
       "        text-align: right;\n",
       "    }\n",
       "</style>\n",
       "<table border=\"1\" class=\"dataframe\">\n",
       "  <thead>\n",
       "    <tr style=\"text-align: right;\">\n",
       "      <th></th>\n",
       "      <th>Name</th>\n",
       "      <th>Description</th>\n",
       "      <th>geometry</th>\n",
       "    </tr>\n",
       "  </thead>\n",
       "  <tbody>\n",
       "    <tr>\n",
       "      <th>0</th>\n",
       "      <td></td>\n",
       "      <td></td>\n",
       "      <td>MULTIPOLYGON (((104.45035 12.51519, 104.44859 ...</td>\n",
       "    </tr>\n",
       "    <tr>\n",
       "      <th>1</th>\n",
       "      <td></td>\n",
       "      <td></td>\n",
       "      <td>MULTIPOLYGON (((104.82759 11.88065, 104.82928 ...</td>\n",
       "    </tr>\n",
       "    <tr>\n",
       "      <th>2</th>\n",
       "      <td></td>\n",
       "      <td></td>\n",
       "      <td>MULTIPOLYGON (((104.92232 11.73615, 104.92428 ...</td>\n",
       "    </tr>\n",
       "    <tr>\n",
       "      <th>3</th>\n",
       "      <td></td>\n",
       "      <td></td>\n",
       "      <td>MULTIPOLYGON (((105.33064 11.86490, 105.33209 ...</td>\n",
       "    </tr>\n",
       "    <tr>\n",
       "      <th>4</th>\n",
       "      <td></td>\n",
       "      <td></td>\n",
       "      <td>MULTIPOLYGON (((105.80715 11.59858, 105.80925 ...</td>\n",
       "    </tr>\n",
       "  </tbody>\n",
       "</table>\n",
       "</div>"
      ],
      "text/plain": [
       "  Name Description                                           geometry\n",
       "0                   MULTIPOLYGON (((104.45035 12.51519, 104.44859 ...\n",
       "1                   MULTIPOLYGON (((104.82759 11.88065, 104.82928 ...\n",
       "2                   MULTIPOLYGON (((104.92232 11.73615, 104.92428 ...\n",
       "3                   MULTIPOLYGON (((105.33064 11.86490, 105.33209 ...\n",
       "4                   MULTIPOLYGON (((105.80715 11.59858, 105.80925 ..."
      ]
     },
     "execution_count": 48,
     "metadata": {},
     "output_type": "execute_result"
    }
   ],
   "source": [
    "data_kml = gpd.read_file('data/provisional_census2019/provisional_census2019.kml', driver='KML')\n",
    "data_kml.head()"
   ]
  },
  {
   "cell_type": "code",
   "execution_count": 49,
   "metadata": {},
   "outputs": [
    {
     "data": {
      "text/plain": [
       "geopandas.geodataframe.GeoDataFrame"
      ]
     },
     "execution_count": 49,
     "metadata": {},
     "output_type": "execute_result"
    }
   ],
   "source": [
    "type(data_kml)"
   ]
  },
  {
   "cell_type": "code",
   "execution_count": 50,
   "metadata": {},
   "outputs": [
    {
     "data": {
      "text/plain": [
       "<AxesSubplot:>"
      ]
     },
     "execution_count": 50,
     "metadata": {},
     "output_type": "execute_result"
    },
    {
     "data": {
      "image/png": "[encoded data removed]",
      "text/plain": [
       "<Figure size 432x288 with 1 Axes>"
      ]
     },
     "metadata": {
      "needs_background": "light"
     },
     "output_type": "display_data"
    }
   ],
   "source": [
    "data_kml.plot()"
   ]
  },
  {
   "cell_type": "markdown",
   "metadata": {},
   "source": [
    "From the geodataframe that we read from kml-file, we can see clearly that there are only 3 columns (i.e. Name, Description, and geometry) while other columns are missing. This is the disadvantage of reading KML-file in Python because KML-files mostly contain unsupported data structures, nested folder, etc., hence, I do not recommend to read data from KML. It's better to manually convert the KML file to other formart such as Shapefile or GeoJSON file using GIS application. So when we read shapefile or geojson, it will return a correct GeoDataFrame."
   ]
  },
  {
   "cell_type": "markdown",
   "metadata": {},
   "source": [
    "---"
   ]
  }
 ],
 "metadata": {
  "kernelspec": {
   "display_name": "Python 3",
   "language": "python",
   "name": "python3"
  },
  "language_info": {
   "codemirror_mode": {
    "name": "ipython",
    "version": 3
   },
   "file_extension": ".py",
   "mimetype": "text/x-python",
   "name": "python",
   "nbconvert_exporter": "python",
   "pygments_lexer": "ipython3",
   "version": "3.7.10"
  }
 },
 "nbformat": 4,
 "nbformat_minor": 4
}
