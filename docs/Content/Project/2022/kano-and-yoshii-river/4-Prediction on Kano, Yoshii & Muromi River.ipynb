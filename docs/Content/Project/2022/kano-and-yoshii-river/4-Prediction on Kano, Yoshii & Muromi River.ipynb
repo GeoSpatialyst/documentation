{
 "cells": [
  {
   "cell_type": "markdown",
   "id": "329e7983-8728-48dc-b21a-0efadd3c4f3f",
   "metadata": {},
   "source": [
    "# 4. Predicting the whole Kano and Yoshii River\n",
    "*Written by Men Vuthy, 2022*"
   ]
  },
  {
   "cell_type": "markdown",
   "id": "39d7aa33",
   "metadata": {},
   "source": [
    "---"
   ]
  },
  {
   "cell_type": "markdown",
   "id": "d3c60f3c",
   "metadata": {},
   "source": [
    "**Import modules**"
   ]
  },
  {
   "cell_type": "code",
   "execution_count": 1,
   "id": "1b59693e-f39b-4635-956c-30db8ab0f140",
   "metadata": {},
   "outputs": [],
   "source": [
    "import os\n",
    "import pandas as pd\n",
    "import numpy as np\n",
    "np.random.seed(0)\n",
    "\n",
    "import rasterio\n",
    "import geopandas as gpd\n",
    "\n",
    "# Import scikit-learn modules\n",
    "from sklearn.datasets import load_iris\n",
    "from sklearn.ensemble import RandomForestClassifier\n",
    "from sklearn.metrics import accuracy_score, confusion_matrix, classification_report\n",
    "import joblib\n",
    "\n",
    "import matplotlib.pyplot as plt\n",
    "import seaborn as sns\n",
    "from matplotlib import rc\n",
    "rc('text', usetex=True)"
   ]
  },
  {
   "cell_type": "code",
   "execution_count": 2,
   "id": "3396a996-756c-454f-a3f0-94edb85c651d",
   "metadata": {},
   "outputs": [],
   "source": [
    "# Input classified data of each river\n",
    "Kano_classified = pd.read_csv('data/kano_river/out_img/classified/kano_classified_index.csv')\n",
    "Yoshii_classified = pd.read_csv('data/yoshii_river/out_img/classified/yoshii_classified_index.csv')"
   ]
  },
  {
   "cell_type": "code",
   "execution_count": 3,
   "id": "9498c8d6-45f5-43e5-aa73-eb7567a3db50",
   "metadata": {},
   "outputs": [
    {
     "data": {
      "text/plain": [
       "Index(['B1', 'G1', 'R1', 'NIR1', 'NDVI1', 'NDWI1', 'BSI1', 'B2', 'G2', 'R2',\n",
       "       'NIR2', 'NDVI2', 'NDWI2', 'BSI2', 'B3', 'G3', 'R3', 'NIR3', 'NDVI3',\n",
       "       'NDWI3', 'BSI3', 'B4', 'G4', 'R4', 'NIR4', 'NDVI4', 'NDWI4', 'BSI4'],\n",
       "      dtype='object')"
      ]
     },
     "execution_count": 3,
     "metadata": {},
     "output_type": "execute_result"
    }
   ],
   "source": [
    "# Get index of dataframe\n",
    "kano_index = Kano_classified.iloc[:,0]\n",
    "yoshii_index = Yoshii_classified.iloc[:,0]\n",
    "\n",
    "# Create a list of the feature column's names\n",
    "features = Kano_classified.columns[1:29]\n",
    "\n",
    "features"
   ]
  },
  {
   "cell_type": "code",
   "execution_count": 4,
   "id": "34ddabdc-398a-4366-ac18-3adcade4df5b",
   "metadata": {},
   "outputs": [],
   "source": [
    "# load, no need to initialize the loaded_rf\n",
    "rfc_model = joblib.load(\"./random_forest.joblib\")"
   ]
  },
  {
   "cell_type": "code",
   "execution_count": 5,
   "id": "6de62334-4254-44f1-97db-edd73b4a3dfd",
   "metadata": {},
   "outputs": [],
   "source": [
    "# Apply the trained Classifier to the prediction dataframe\n",
    "preds_kano = rfc_model.predict(Kano_classified[features])"
   ]
  },
  {
   "cell_type": "code",
   "execution_count": 6,
   "id": "a55e1c2f-1056-4578-b8db-5c9e47d509a9",
   "metadata": {},
   "outputs": [
    {
     "name": "stdout",
     "output_type": "stream",
     "text": [
      "Our classification accuracy is: 96.09589654544772%\n"
     ]
    }
   ],
   "source": [
    "# View accuracy classification (cross-validation) score\n",
    "print('Our classification accuracy is: {cv}%'.format(cv=accuracy_score(Kano_classified['label'], preds_kano)* 100))"
   ]
  },
  {
   "cell_type": "markdown",
   "id": "0c3a4c9c-29ff-468e-b4dc-3fe2a46ef5fa",
   "metadata": {},
   "source": [
    "*Visualizing confusion matrix*data/kano_river/out_img/predicted"
   ]
  },
  {
   "cell_type": "code",
   "execution_count": 7,
   "id": "7ca58219-944a-4131-8348-94d73b67fa81",
   "metadata": {},
   "outputs": [],
   "source": [
    "# Get and reshape confusion matrix data\n",
    "Matrix = confusion_matrix(Kano_classified['label'], preds_kano)\n",
    "matrix = Matrix.astype('float') / Matrix.sum(axis=1)[:, np.newaxis]"
   ]
  },
  {
   "cell_type": "code",
   "execution_count": 8,
   "id": "a5d51dcd-5232-4486-a89f-194b2fae7264",
   "metadata": {},
   "outputs": [
    {
     "data": {
      "image/png": "[encoded data removed]",
      "text/plain": [
       "<Figure size 1080x360 with 2 Axes>"
      ]
     },
     "metadata": {
      "needs_background": "light"
     },
     "output_type": "display_data"
    }
   ],
   "source": [
    "# Build the plot\n",
    "plt.figure(figsize=(15,5))\n",
    "sns.heatmap(matrix, annot=True, annot_kws={'size':10},\n",
    "            cmap=plt.cm.Greens, linewidths=0.2)\n",
    "\n",
    "# Add labels to the plot\n",
    "class_names = ['1', '2', '3', '4', '5', '6', '7']\n",
    "tick_marks = np.arange(len(class_names))\n",
    "tick_marks2 = tick_marks + 0.5\n",
    "plt.xticks(tick_marks+ 0.5, class_names, rotation=25, fontsize=10)\n",
    "plt.yticks(tick_marks2, class_names, rotation=0, fontsize=10)\n",
    "plt.xlabel('Predicted label', fontsize=12)\n",
    "plt.ylabel('True label', fontsize=12)\n",
    "plt.title('Confusion Matrix for Random Forest Model - Kano River\\nTraining data - Kano\\&Yoshii River, 75\\% training and 25\\% testing, Accuracy score is 96.09\\%')\n",
    "plt.savefig('data/kano_river/out_img/predicted/confusion-matrix-kano&yoshii-data.png', dpi=300)\n",
    "plt.show()"
   ]
  },
  {
   "cell_type": "code",
   "execution_count": 9,
   "id": "5d4c612a-7f5e-486a-898f-220a567e7803",
   "metadata": {},
   "outputs": [],
   "source": [
    "# Apply the trained Classifier to the prediction dataframe\n",
    "preds_yoshii = rfc_model.predict(Yoshii_classified[features])"
   ]
  },
  {
   "cell_type": "code",
   "execution_count": 10,
   "id": "ae636ed0-ef8b-4d9d-bbf5-9e15164ff7e5",
   "metadata": {},
   "outputs": [
    {
     "name": "stdout",
     "output_type": "stream",
     "text": [
      "Our classification accuracy is: 97.14533764790879%\n"
     ]
    }
   ],
   "source": [
    "# View accuracy classification (cross-validation) score\n",
    "print('Our classification accuracy is: {cv}%'.format(cv=accuracy_score(Yoshii_classified['label'], preds_yoshii)* 100))"
   ]
  },
  {
   "cell_type": "markdown",
   "id": "2089e347-2cb5-4295-acf5-e15f52ac4117",
   "metadata": {},
   "source": [
    "*Visualizing confusion matrix*"
   ]
  },
  {
   "cell_type": "code",
   "execution_count": 11,
   "id": "3d9cd274-00ae-421f-a33c-3c924dbc97b4",
   "metadata": {},
   "outputs": [],
   "source": [
    "# Get and reshape confusion matrix data\n",
    "Matrix = confusion_matrix(Yoshii_classified['label'], preds_yoshii)\n",
    "matrix = Matrix.astype('float') / Matrix.sum(axis=1)[:, np.newaxis]"
   ]
  },
  {
   "cell_type": "code",
   "execution_count": 12,
   "id": "681bdafe-9c86-4961-b00d-08c0e562f909",
   "metadata": {},
   "outputs": [
    {
     "data": {
      "image/png": "[encoded data removed]",
      "text/plain": [
       "<Figure size 1080x360 with 2 Axes>"
      ]
     },
     "metadata": {
      "needs_background": "light"
     },
     "output_type": "display_data"
    }
   ],
   "source": [
    "# Build the plot\n",
    "plt.figure(figsize=(15,5))\n",
    "sns.heatmap(matrix, annot=True, annot_kws={'size':10},\n",
    "            cmap=plt.cm.Greens, linewidths=0.2)\n",
    "\n",
    "# Add labels to the plot\n",
    "class_names = ['1', '2', '3', '4', '5', '6', '7']\n",
    "tick_marks = np.arange(len(class_names))\n",
    "tick_marks2 = tick_marks + 0.5\n",
    "plt.xticks(tick_marks+ 0.5, class_names, rotation=25, fontsize=10)\n",
    "plt.yticks(tick_marks2, class_names, rotation=0, fontsize=10)\n",
    "plt.xlabel('Predicted label', fontsize=12)\n",
    "plt.ylabel('True label', fontsize=12)\n",
    "plt.title('Confusion Matrix for Random Forest Model - Yoshii River\\nTraining data - Kano\\&Yoshii River, 75\\% training and 25\\% testing, Accuracy score is 97.14\\%')\n",
    "plt.savefig('data/yoshii_river/out_img/predicted/confusion-matrix-kano&yoshii-data.png', dpi=300)\n",
    "plt.show()"
   ]
  },
  {
   "cell_type": "markdown",
   "id": "66fc5212-47a9-4f93-a2c4-e12ad422b53a",
   "metadata": {},
   "source": [
    "**Create raster of predicted data - Kano river**"
   ]
  },
  {
   "cell_type": "code",
   "execution_count": 13,
   "id": "d776c817-3cb1-4d8c-b16d-b7773fad0e18",
   "metadata": {},
   "outputs": [],
   "source": [
    "# Add one image for projection and shape reference\n",
    "kano_img = rasterio.open(\"data/kano_river/out_img/class/kano_class.tiff\")"
   ]
  },
  {
   "cell_type": "code",
   "execution_count": 14,
   "id": "8e95c361-8c43-456b-9266-0069b37a4ae2",
   "metadata": {},
   "outputs": [],
   "source": [
    "# Create new dataframe for predicted class and its index\n",
    "rfc_class = pd.DataFrame()\n",
    "rfc_class['id'] = kano_index\n",
    "rfc_class['class'] = preds_kano"
   ]
  },
  {
   "cell_type": "code",
   "execution_count": 15,
   "id": "e8de4d1e-89f3-4ef5-8813-a887d18c19e5",
   "metadata": {},
   "outputs": [],
   "source": [
    "# Rearrange index into shape of reference raster\n",
    "indx = list(range(kano_img.read().reshape(-1).shape[0]))\n",
    "Index = pd.DataFrame()\n",
    "Index['id'] = indx\n",
    "df1 = Index.set_index('id')\n",
    "df2 = rfc_class.set_index('id')\n",
    "df2 = rfc_class.set_index(df2.index.astype('int64')).drop(columns=['id'])\n",
    "mask = df2.index.isin(df1.index)\n",
    "df1['cluster'] = df2.loc[mask, 'class']"
   ]
  },
  {
   "cell_type": "code",
   "execution_count": 16,
   "id": "c92380fa-4d12-43de-a293-930f4642827d",
   "metadata": {},
   "outputs": [],
   "source": [
    "# Reshape the cluster array\n",
    "array = np.array(df1['cluster'])\n",
    "n_array = array.reshape(kano_img.read().shape)\n",
    "class_array = np.where(np.isnan(n_array), 0, n_array)"
   ]
  },
  {
   "cell_type": "code",
   "execution_count": 17,
   "id": "163a3456-8c10-46ee-a76d-e02008949e9f",
   "metadata": {},
   "outputs": [],
   "source": [
    "# Data dir\n",
    "data_dir = \"data/kano_river/out_img/predicted\"\n",
    "\n",
    "# Output raster\n",
    "out_tif = os.path.join(data_dir, \"kano_predicted.tif\")\n",
    "\n",
    "# Copy the metadata\n",
    "out_meta = kano_img.meta.copy()\n",
    "out_meta\n",
    "\n",
    "# Update the metadata\n",
    "out_meta.update({'driver': 'GTiff',\n",
    "                 'dtype': 'float32',\n",
    "                 'nodata': None,\n",
    "                 'width': kano_img.shape[1],\n",
    "                 'height': kano_img.shape[0],\n",
    "                 'crs': kano_img.crs,\n",
    "                 'count':1,\n",
    "                 'transform': kano_img.transform\n",
    "                })\n",
    "\n",
    "with rasterio.open(out_tif, \"w\", **out_meta) as dest:\n",
    "    dest.write(class_array.astype(np.float32))"
   ]
  },
  {
   "cell_type": "markdown",
   "id": "749b3411-70c2-4d13-9f35-707d8a9b35cb",
   "metadata": {},
   "source": [
    "**Create raster of predicted data - Yoshii river**"
   ]
  },
  {
   "cell_type": "code",
   "execution_count": 31,
   "id": "d9fc2fd6-119f-4e1b-8e85-79c761a0e9a4",
   "metadata": {},
   "outputs": [],
   "source": [
    "# Add one image for projection and shape reference\n",
    "yoshii_img = rasterio.open(\"data/yoshii_river/out_img/class/yoshii_class.tiff\")"
   ]
  },
  {
   "cell_type": "code",
   "execution_count": 32,
   "id": "fb45e575-5d1b-4509-91b5-1be5dd4ca574",
   "metadata": {},
   "outputs": [],
   "source": [
    "# Create new dataframe for predicted class and its index\n",
    "rfc_class = pd.DataFrame()\n",
    "rfc_class['id'] = yoshii_index\n",
    "rfc_class['class'] = preds_yoshii"
   ]
  },
  {
   "cell_type": "code",
   "execution_count": 33,
   "id": "8923fe0b-86a2-4f9e-8b10-7f63937bebbf",
   "metadata": {},
   "outputs": [],
   "source": [
    "# Rearrange index into shape of reference raster\n",
    "indx = list(range(yoshii_img.read().reshape(-1).shape[0]))\n",
    "Index = pd.DataFrame()\n",
    "Index['id'] = indx\n",
    "df1 = Index.set_index('id')\n",
    "df2 = rfc_class.set_index('id')\n",
    "df2 = rfc_class.set_index(df2.index.astype('int64')).drop(columns=['id'])\n",
    "mask = df2.index.isin(df1.index)\n",
    "df1['cluster'] = df2.loc[mask, 'class']"
   ]
  },
  {
   "cell_type": "code",
   "execution_count": 34,
   "id": "1946f77b-9a2c-4c0f-b037-354cea35776a",
   "metadata": {},
   "outputs": [],
   "source": [
    "# Reshape the cluster array\n",
    "array = np.array(df1['cluster'])\n",
    "n_array = array.reshape(yoshii_img.read().shape)\n",
    "class_array = np.where(np.isnan(n_array), 0, n_array)"
   ]
  },
  {
   "cell_type": "code",
   "execution_count": 22,
   "id": "736e0e7e-3e6e-40a3-bc77-1cdf074c6293",
   "metadata": {},
   "outputs": [],
   "source": [
    "# Data dir\n",
    "data_dir = \"data/yoshii_river/out_img/predicted\"\n",
    "\n",
    "# Output raster\n",
    "out_tif = os.path.join(data_dir, \"yoshii_predicted.tif\")\n",
    "\n",
    "# Copy the metadata\n",
    "out_meta = yoshii_img.meta.copy()\n",
    "out_meta\n",
    "\n",
    "# Update the metadata\n",
    "out_meta.update({'driver': 'GTiff',\n",
    "                 'dtype': 'float32',\n",
    "                 'nodata': None,\n",
    "                 'width': yoshii_img.shape[1],\n",
    "                 'height': yoshii_img.shape[0],\n",
    "                 'crs': yoshii_img.crs,\n",
    "                 'count':1,\n",
    "                 'transform': yoshii_img.transform\n",
    "                })\n",
    "\n",
    "with rasterio.open(out_tif, \"w\", **out_meta) as dest:\n",
    "    dest.write(class_array.astype(np.float32))"
   ]
  }
 ],
 "metadata": {
  "kernelspec": {
   "display_name": "Python 3",
   "language": "python",
   "name": "python3"
  },
  "language_info": {
   "codemirror_mode": {
    "name": "ipython",
    "version": 3
   },
   "file_extension": ".py",
   "mimetype": "text/x-python",
   "name": "python",
   "nbconvert_exporter": "python",
   "pygments_lexer": "ipython3",
   "version": "3.7.10"
  }
 },
 "nbformat": 4,
 "nbformat_minor": 5
}
