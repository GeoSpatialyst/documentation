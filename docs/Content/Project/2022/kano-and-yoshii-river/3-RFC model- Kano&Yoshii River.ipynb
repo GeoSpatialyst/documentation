{
 "cells": [
  {
   "cell_type": "markdown",
   "id": "f2ce049f-4029-4fdb-8e59-70b69a778d7b",
   "metadata": {},
   "source": [
    "# 3. Supervised learning model development \n",
    "*Written by Men Vuthy, 2022*"
   ]
  },
  {
   "cell_type": "markdown",
   "id": "14cb65e1",
   "metadata": {},
   "source": [
    "---"
   ]
  },
  {
   "cell_type": "markdown",
   "id": "4dade27b",
   "metadata": {},
   "source": [
    "**Import modules**"
   ]
  },
  {
   "cell_type": "code",
   "execution_count": 1,
   "id": "9a3cf9db-33c3-4d5e-811b-593c6553cd70",
   "metadata": {},
   "outputs": [],
   "source": [
    "import os\n",
    "import pandas as pd\n",
    "import numpy as np\n",
    "np.random.seed(0)\n",
    "\n",
    "import rasterio\n",
    "import geopandas as gpd\n",
    "\n",
    "# Import scikit-learn modules\n",
    "from sklearn.datasets import load_iris\n",
    "from sklearn.ensemble import RandomForestClassifier\n",
    "from sklearn.metrics import accuracy_score, confusion_matrix, classification_report\n",
    "import joblib\n",
    "\n",
    "import matplotlib.pyplot as plt\n",
    "import seaborn as sns\n",
    "from matplotlib import rc\n",
    "rc('text', usetex=True)"
   ]
  },
  {
   "cell_type": "code",
   "execution_count": 2,
   "id": "c12b3b77-cf97-49e9-9aee-ab5f03a12d8b",
   "metadata": {},
   "outputs": [],
   "source": [
    "# Input classified data of each river\n",
    "Kano_classified = pd.read_csv('data/kano_river/out_img/classified/kano_classified.csv')\n",
    "Yoshii_classified = pd.read_csv('data/yoshii_river/out_img/classified/yoshii_classified.csv')"
   ]
  },
  {
   "cell_type": "code",
   "execution_count": 3,
   "id": "065d4af1-951a-41e8-8ba1-ec9ba46169dc",
   "metadata": {},
   "outputs": [],
   "source": [
    "# Create dataframe containing all classified data\n",
    "classified_df = pd.concat([Kano_classified, Yoshii_classified], ignore_index=True)"
   ]
  },
  {
   "cell_type": "code",
   "execution_count": 4,
   "id": "2dbb8b98-d749-4984-9761-f2f99f79c540",
   "metadata": {},
   "outputs": [
    {
     "data": {
      "text/html": [
       "<div>\n",
       "<style scoped>\n",
       "    .dataframe tbody tr th:only-of-type {\n",
       "        vertical-align: middle;\n",
       "    }\n",
       "\n",
       "    .dataframe tbody tr th {\n",
       "        vertical-align: top;\n",
       "    }\n",
       "\n",
       "    .dataframe thead th {\n",
       "        text-align: right;\n",
       "    }\n",
       "</style>\n",
       "<table border=\"1\" class=\"dataframe\">\n",
       "  <thead>\n",
       "    <tr style=\"text-align: right;\">\n",
       "      <th></th>\n",
       "      <th>B1</th>\n",
       "      <th>G1</th>\n",
       "      <th>R1</th>\n",
       "      <th>NIR1</th>\n",
       "      <th>NDVI1</th>\n",
       "      <th>NDWI1</th>\n",
       "      <th>BSI1</th>\n",
       "      <th>B2</th>\n",
       "      <th>G2</th>\n",
       "      <th>R2</th>\n",
       "      <th>...</th>\n",
       "      <th>BSI3</th>\n",
       "      <th>B4</th>\n",
       "      <th>G4</th>\n",
       "      <th>R4</th>\n",
       "      <th>NIR4</th>\n",
       "      <th>NDVI4</th>\n",
       "      <th>NDWI4</th>\n",
       "      <th>BSI4</th>\n",
       "      <th>label</th>\n",
       "      <th>train</th>\n",
       "    </tr>\n",
       "  </thead>\n",
       "  <tbody>\n",
       "    <tr>\n",
       "      <th>0</th>\n",
       "      <td>890</td>\n",
       "      <td>992</td>\n",
       "      <td>995</td>\n",
       "      <td>1965</td>\n",
       "      <td>0.242947</td>\n",
       "      <td>-0.214166</td>\n",
       "      <td>0.303773</td>\n",
       "      <td>860</td>\n",
       "      <td>912</td>\n",
       "      <td>819</td>\n",
       "      <td>...</td>\n",
       "      <td>0.325482</td>\n",
       "      <td>655</td>\n",
       "      <td>745</td>\n",
       "      <td>768</td>\n",
       "      <td>1148</td>\n",
       "      <td>0.207700</td>\n",
       "      <td>-0.172238</td>\n",
       "      <td>0.307462</td>\n",
       "      <td>6</td>\n",
       "      <td>True</td>\n",
       "    </tr>\n",
       "    <tr>\n",
       "      <th>1</th>\n",
       "      <td>900</td>\n",
       "      <td>990</td>\n",
       "      <td>990</td>\n",
       "      <td>2008</td>\n",
       "      <td>0.255461</td>\n",
       "      <td>-0.225427</td>\n",
       "      <td>0.306076</td>\n",
       "      <td>882</td>\n",
       "      <td>936</td>\n",
       "      <td>865</td>\n",
       "      <td>...</td>\n",
       "      <td>0.332129</td>\n",
       "      <td>652</td>\n",
       "      <td>722</td>\n",
       "      <td>735</td>\n",
       "      <td>1072</td>\n",
       "      <td>0.195912</td>\n",
       "      <td>-0.154165</td>\n",
       "      <td>0.310903</td>\n",
       "      <td>6</td>\n",
       "      <td>True</td>\n",
       "    </tr>\n",
       "    <tr>\n",
       "      <th>2</th>\n",
       "      <td>901</td>\n",
       "      <td>972</td>\n",
       "      <td>958</td>\n",
       "      <td>1862</td>\n",
       "      <td>0.235430</td>\n",
       "      <td>-0.198141</td>\n",
       "      <td>0.307286</td>\n",
       "      <td>877</td>\n",
       "      <td>915</td>\n",
       "      <td>854</td>\n",
       "      <td>...</td>\n",
       "      <td>0.329432</td>\n",
       "      <td>636</td>\n",
       "      <td>709</td>\n",
       "      <td>733</td>\n",
       "      <td>983</td>\n",
       "      <td>0.155239</td>\n",
       "      <td>-0.120563</td>\n",
       "      <td>0.312732</td>\n",
       "      <td>6</td>\n",
       "      <td>True</td>\n",
       "    </tr>\n",
       "    <tr>\n",
       "      <th>3</th>\n",
       "      <td>801</td>\n",
       "      <td>889</td>\n",
       "      <td>863</td>\n",
       "      <td>1576</td>\n",
       "      <td>0.205786</td>\n",
       "      <td>-0.160642</td>\n",
       "      <td>0.297341</td>\n",
       "      <td>846</td>\n",
       "      <td>857</td>\n",
       "      <td>799</td>\n",
       "      <td>...</td>\n",
       "      <td>0.319362</td>\n",
       "      <td>619</td>\n",
       "      <td>683</td>\n",
       "      <td>705</td>\n",
       "      <td>874</td>\n",
       "      <td>0.116680</td>\n",
       "      <td>-0.080891</td>\n",
       "      <td>0.314762</td>\n",
       "      <td>6</td>\n",
       "      <td>True</td>\n",
       "    </tr>\n",
       "    <tr>\n",
       "      <th>4</th>\n",
       "      <td>842</td>\n",
       "      <td>893</td>\n",
       "      <td>896</td>\n",
       "      <td>1301</td>\n",
       "      <td>0.093848</td>\n",
       "      <td>-0.063836</td>\n",
       "      <td>0.315164</td>\n",
       "      <td>821</td>\n",
       "      <td>811</td>\n",
       "      <td>749</td>\n",
       "      <td>...</td>\n",
       "      <td>0.313164</td>\n",
       "      <td>572</td>\n",
       "      <td>642</td>\n",
       "      <td>652</td>\n",
       "      <td>739</td>\n",
       "      <td>0.072273</td>\n",
       "      <td>-0.028123</td>\n",
       "      <td>0.307235</td>\n",
       "      <td>6</td>\n",
       "      <td>True</td>\n",
       "    </tr>\n",
       "  </tbody>\n",
       "</table>\n",
       "<p>5 rows × 30 columns</p>\n",
       "</div>"
      ],
      "text/plain": [
       "    B1   G1   R1  NIR1     NDVI1     NDWI1      BSI1   B2   G2   R2  ...  \\\n",
       "0  890  992  995  1965  0.242947 -0.214166  0.303773  860  912  819  ...   \n",
       "1  900  990  990  2008  0.255461 -0.225427  0.306076  882  936  865  ...   \n",
       "2  901  972  958  1862  0.235430 -0.198141  0.307286  877  915  854  ...   \n",
       "3  801  889  863  1576  0.205786 -0.160642  0.297341  846  857  799  ...   \n",
       "4  842  893  896  1301  0.093848 -0.063836  0.315164  821  811  749  ...   \n",
       "\n",
       "       BSI3   B4   G4   R4  NIR4     NDVI4     NDWI4      BSI4  label  train  \n",
       "0  0.325482  655  745  768  1148  0.207700 -0.172238  0.307462      6   True  \n",
       "1  0.332129  652  722  735  1072  0.195912 -0.154165  0.310903      6   True  \n",
       "2  0.329432  636  709  733   983  0.155239 -0.120563  0.312732      6   True  \n",
       "3  0.319362  619  683  705   874  0.116680 -0.080891  0.314762      6   True  \n",
       "4  0.313164  572  642  652   739  0.072273 -0.028123  0.307235      6   True  \n",
       "\n",
       "[5 rows x 30 columns]"
      ]
     },
     "execution_count": 4,
     "metadata": {},
     "output_type": "execute_result"
    }
   ],
   "source": [
    "# Create Test and Train Data\n",
    "classified_df['train'] = np.random.uniform(0, 1, len(classified_df)) <= .75\n",
    "classified_df.head()"
   ]
  },
  {
   "cell_type": "code",
   "execution_count": 5,
   "id": "b78c1ce8-61db-4902-824b-65f8a402e646",
   "metadata": {},
   "outputs": [
    {
     "name": "stdout",
     "output_type": "stream",
     "text": [
      "Training data: 1383093\n",
      "Testing data: 462144\n"
     ]
    }
   ],
   "source": [
    "# Create dataframes with test rows and training rows\n",
    "train, test = classified_df[classified_df['train']==True], classified_df[classified_df['train']==False]\n",
    "\n",
    "# show the number of observations for test and train dataframe\n",
    "print('Training data:', len(train))\n",
    "print('Testing data:', len(test))"
   ]
  },
  {
   "cell_type": "code",
   "execution_count": 6,
   "id": "c074e553-9593-41e6-9e0f-18d1a1c5054c",
   "metadata": {},
   "outputs": [
    {
     "data": {
      "text/plain": [
       "Index(['B1', 'G1', 'R1', 'NIR1', 'NDVI1', 'NDWI1', 'BSI1', 'B2', 'G2', 'R2',\n",
       "       'NIR2', 'NDVI2', 'NDWI2', 'BSI2', 'B3', 'G3', 'R3', 'NIR3', 'NDVI3',\n",
       "       'NDWI3', 'BSI3', 'B4', 'G4', 'R4', 'NIR4', 'NDVI4', 'NDWI4', 'BSI4'],\n",
       "      dtype='object')"
      ]
     },
     "execution_count": 6,
     "metadata": {},
     "output_type": "execute_result"
    }
   ],
   "source": [
    "# Create a list of the feature column's names\n",
    "features = classified_df.columns[:28]\n",
    "\n",
    "features"
   ]
  },
  {
   "cell_type": "code",
   "execution_count": 7,
   "id": "084844ec-d424-4ec5-b91c-000a7f6f5e67",
   "metadata": {},
   "outputs": [],
   "source": [
    "# Since our land use is already in digits, there's no need to factorize\n",
    "classes = train['label']"
   ]
  },
  {
   "cell_type": "code",
   "execution_count": 8,
   "id": "c73c0489-58e0-4624-9d5c-c08c4a2796b9",
   "metadata": {},
   "outputs": [],
   "source": [
    "# Initialize our model with 150 trees\n",
    "clf = RandomForestClassifier(n_estimators=150, oob_score=True, random_state=0)\n",
    "\n",
    "# Fit our model to training data\n",
    "clf = clf.fit(train[features], classes)"
   ]
  },
  {
   "cell_type": "code",
   "execution_count": 9,
   "id": "8fbbfac4-ce03-41d1-bb5d-051627dce067",
   "metadata": {},
   "outputs": [],
   "source": [
    "# save\n",
    "joblib.dump(clf, \"./random_forest.joblib\")\n",
    "\n",
    "# load, no need to initialize the loaded_rf\n",
    "rfc_model = joblib.load(\"./random_forest.joblib\")"
   ]
  },
  {
   "cell_type": "code",
   "execution_count": 10,
   "id": "5b47513b-e616-4837-a4c4-4f9f6c690b29",
   "metadata": {},
   "outputs": [
    {
     "name": "stdout",
     "output_type": "stream",
     "text": [
      "Band B1 importance: 0.022640564247320704\n",
      "Band G1 importance: 0.04775373986536404\n",
      "Band R1 importance: 0.03305181014428356\n",
      "Band NIR1 importance: 0.08998159842070703\n",
      "Band NDVI1 importance: 0.021422512253227544\n",
      "Band NDWI1 importance: 0.0251564608437582\n",
      "Band BSI1 importance: 0.016150975502086287\n",
      "Band B2 importance: 0.020143180151256875\n",
      "Band G2 importance: 0.02750993202560692\n",
      "Band R2 importance: 0.03344753939644612\n",
      "Band NIR2 importance: 0.11919608698774228\n",
      "Band NDVI2 importance: 0.027123799062126603\n",
      "Band NDWI2 importance: 0.03763494172800262\n",
      "Band BSI2 importance: 0.017902071552508066\n",
      "Band B3 importance: 0.020224980301024903\n",
      "Band G3 importance: 0.022142024296447817\n",
      "Band R3 importance: 0.027312165405646797\n",
      "Band NIR3 importance: 0.07469120978582319\n",
      "Band NDVI3 importance: 0.025987768747866326\n",
      "Band NDWI3 importance: 0.028268420759686608\n",
      "Band BSI3 importance: 0.016441553188424125\n",
      "Band B4 importance: 0.022289771094910774\n",
      "Band G4 importance: 0.031409771837951336\n",
      "Band R4 importance: 0.04344981684834436\n",
      "Band NIR4 importance: 0.06311245118705901\n",
      "Band NDVI4 importance: 0.028885612361275136\n",
      "Band NDWI4 importance: 0.041524950168692044\n",
      "Band BSI4 importance: 0.015144291836410532\n"
     ]
    }
   ],
   "source": [
    "# Check the importance of each feature\n",
    "for b, imp in zip(features, rfc_model.feature_importances_):\n",
    "    print('Band {b} importance: {imp}'.format(b=b, imp=imp))"
   ]
  },
  {
   "cell_type": "code",
   "execution_count": 11,
   "id": "89095920-8f68-4efe-bfb7-de3dca861172",
   "metadata": {},
   "outputs": [
    {
     "name": "stdout",
     "output_type": "stream",
     "text": [
      "Our OOB prediction of accuracy is: 88.7774719415108%\n"
     ]
    }
   ],
   "source": [
    "# View Out-of-Bag accuracy score\n",
    "print('Our OOB prediction of accuracy is: {oob}%'.format(oob=rfc_model.oob_score_ * 100))"
   ]
  },
  {
   "cell_type": "markdown",
   "id": "805cb2aa-4124-4383-9c02-8ae8e1593f68",
   "metadata": {},
   "source": [
    "*Predicting test dataset*"
   ]
  },
  {
   "cell_type": "code",
   "execution_count": 12,
   "id": "835ada9f-9051-4d83-8301-1b21eab15e65",
   "metadata": {},
   "outputs": [],
   "source": [
    "# Apply the trained Classifier to the test\n",
    "preds = rfc_model.predict(test[features])"
   ]
  },
  {
   "cell_type": "code",
   "execution_count": 13,
   "id": "0aa72689-3021-40df-92a5-67be303d021b",
   "metadata": {},
   "outputs": [
    {
     "name": "stdout",
     "output_type": "stream",
     "text": [
      "Our classification accuracy is: 88.93137203988367%\n"
     ]
    }
   ],
   "source": [
    "# View accuracy classification (cross-validation) score\n",
    "print('Our classification accuracy is: {cv}%'.format(cv=accuracy_score(test['label'], preds)* 100))"
   ]
  },
  {
   "cell_type": "markdown",
   "id": "02a8e4c2-f429-41c8-b3c2-2cc656c7922d",
   "metadata": {},
   "source": [
    "*Visualizing confusion matrix*"
   ]
  },
  {
   "cell_type": "code",
   "execution_count": 14,
   "id": "d66d82c9-7337-4be4-90bd-391ecd2831d9",
   "metadata": {},
   "outputs": [],
   "source": [
    "# Get and reshape confusion matrix data\n",
    "Matrix = confusion_matrix(test['label'], preds)\n",
    "matrix = Matrix.astype('float') / Matrix.sum(axis=1)[:, np.newaxis]"
   ]
  },
  {
   "cell_type": "code",
   "execution_count": 15,
   "id": "efe0186a-21dc-4f36-b547-05e6c2137f36",
   "metadata": {},
   "outputs": [
    {
     "data": {
      "image/png": "[encoded data removed]",
      "text/plain": [
       "<Figure size 1080x360 with 2 Axes>"
      ]
     },
     "metadata": {
      "needs_background": "light"
     },
     "output_type": "display_data"
    }
   ],
   "source": [
    "# Build the plot\n",
    "plt.figure(figsize=(15,5))\n",
    "sns.heatmap(Matrix, annot=True, annot_kws={'size':10},\n",
    "            cmap=plt.cm.Greens, linewidths=0.2)\n",
    "\n",
    "# Add labels to the plot\n",
    "class_names = ['1', '2', '3', '4', '5', '6', '7']\n",
    "tick_marks = np.arange(len(class_names))\n",
    "tick_marks2 = tick_marks + 0.5\n",
    "plt.xticks(tick_marks+ 0.5, class_names, rotation=25, fontsize=10)\n",
    "plt.yticks(tick_marks2, class_names, rotation=0, fontsize=10)\n",
    "plt.xlabel('Predicted label', fontsize=12)\n",
    "plt.ylabel('True label', fontsize=12)\n",
    "plt.title('Confusion Matrix for Random Forest Model')\n",
    "plt.show()"
   ]
  },
  {
   "cell_type": "code",
   "execution_count": 16,
   "id": "ee3945b9-113c-4e16-9e79-c99480976792",
   "metadata": {},
   "outputs": [
    {
     "data": {
      "image/png": "[encoded data removed]",
      "text/plain": [
       "<Figure size 1080x360 with 2 Axes>"
      ]
     },
     "metadata": {
      "needs_background": "light"
     },
     "output_type": "display_data"
    }
   ],
   "source": [
    "# Build the plot\n",
    "plt.figure(figsize=(15,5))\n",
    "sns.heatmap(matrix, annot=True, annot_kws={'size':10},\n",
    "            cmap=plt.cm.Greens, linewidths=0.2)\n",
    "\n",
    "# Add labels to the plot\n",
    "class_names = ['1', '2', '3', '4', '5', '6', '7']\n",
    "tick_marks = np.arange(len(class_names))\n",
    "tick_marks2 = tick_marks + 0.5\n",
    "plt.xticks(tick_marks+ 0.5, class_names, rotation=25, fontsize=10)\n",
    "plt.yticks(tick_marks2, class_names, rotation=0, fontsize=10)\n",
    "plt.xlabel('Predicted label', fontsize=12)\n",
    "plt.ylabel('True label', fontsize=12)\n",
    "plt.title('Confusion Matrix for Random Forest Model\\n75\\% training and 25\\% testing\\nAccuracy score is 88.93\\%')\n",
    "# plt.savefig('confusion-matrix.png', dpi=300)\n",
    "plt.show()"
   ]
  }
 ],
 "metadata": {
  "kernelspec": {
   "display_name": "Python 3",
   "language": "python",
   "name": "python3"
  },
  "language_info": {
   "codemirror_mode": {
    "name": "ipython",
    "version": 3
   },
   "file_extension": ".py",
   "mimetype": "text/x-python",
   "name": "python",
   "nbconvert_exporter": "python",
   "pygments_lexer": "ipython3",
   "version": "3.7.10"
  }
 },
 "nbformat": 4,
 "nbformat_minor": 5
}
