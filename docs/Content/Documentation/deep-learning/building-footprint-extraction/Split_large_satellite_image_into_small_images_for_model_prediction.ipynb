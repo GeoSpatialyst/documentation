{
  "cells": [
    {
      "cell_type": "markdown",
      "metadata": {
        "id": "wWDCxTGQWYrL"
      },
      "source": [
        "# Split large satellite image into small images for model prediction"
      ]
    },
    {
      "cell_type": "markdown",
      "metadata": {
        "id": "SsBHs58oaxpr"
      },
      "source": [
        "*Written by: Men Vuthy, 2022*\n",
        "\n",
        "---\n"
      ]
    },
    {
      "cell_type": "markdown",
      "metadata": {
        "id": "5OyNzz48aOIg"
      },
      "source": [
        "You can also run the code here in Google Colab. Try clicking button below:\n",
        "\n",
        "[![Open In Colab](https://colab.research.google.com/assets/colab-badge.svg)](https://colab.research.google.com/drive/1a_SkW3HoAKP-dUNFQTyhhlL6j3Y0AmUg#scrollTo=5OyNzz48aOIg)"
      ]
    },
    {
      "cell_type": "markdown",
      "metadata": {
        "id": "7KD8mS01f9My"
      },
      "source": [
        "Predicting an image normally consume a lot of memory. If a whole image is used for model prediction, the runtime will cut off and it might affect the result of prediction too. Therefore, by splitting the image into small pieces, it usually improve the runtime and result."
      ]
    },
    {
      "cell_type": "markdown",
      "metadata": {
        "id": "lQj39gnJdWev"
      },
      "source": [
        "### Objective\n",
        "\n",
        "*   Split WV-3 satellite images into small pieces with the shape around (2000, 2000, 3) based on the grid geometry.\n",
        "\n"
      ]
    },
    {
      "cell_type": "markdown",
      "metadata": {
        "id": "VREFKi5Y04pU"
      },
      "source": [
        "### Code"
      ]
    },
    {
      "cell_type": "markdown",
      "metadata": {
        "id": "gWFYZ3Ww08-C"
      },
      "source": [
        "**Install modules and import all necessary datasets**"
      ]
    },
    {
      "cell_type": "code",
      "execution_count": 1,
      "metadata": {
        "colab": {
          "base_uri": "https://localhost:8080/"
        },
        "id": "J7n_MevL29_9",
        "outputId": "13ef173f-9d3d-420b-f26f-6dee6ba0be0d"
      },
      "outputs": [
        {
          "name": "stdout",
          "output_type": "stream",
          "text": [
            "Requirement already satisfied: rasterio in c:\\users\\a9418\\anaconda3\\envs\\sate\\lib\\site-packages (1.0.21)\n",
            "Requirement already satisfied: affine in c:\\users\\a9418\\anaconda3\\envs\\sate\\lib\\site-packages (from rasterio) (2.3.0)\n",
            "Requirement already satisfied: attrs in c:\\users\\a9418\\anaconda3\\envs\\sate\\lib\\site-packages (from rasterio) (20.3.0)\n",
            "Requirement already satisfied: click<8,>=4.0 in c:\\users\\a9418\\anaconda3\\envs\\sate\\lib\\site-packages (from rasterio) (7.1.2)\n",
            "Requirement already satisfied: cligj>=0.5 in c:\\users\\a9418\\anaconda3\\envs\\sate\\lib\\site-packages (from rasterio) (0.7.1)\n",
            "Requirement already satisfied: numpy in c:\\users\\a9418\\anaconda3\\envs\\sate\\lib\\site-packages (from rasterio) (1.19.2)\n",
            "Requirement already satisfied: snuggs>=1.4.1 in c:\\users\\a9418\\anaconda3\\envs\\sate\\lib\\site-packages (from rasterio) (1.4.7)\n",
            "Requirement already satisfied: click-plugins in c:\\users\\a9418\\anaconda3\\envs\\sate\\lib\\site-packages (from rasterio) (1.1.1)\n",
            "Requirement already satisfied: pyparsing>=2.1.6 in c:\\users\\a9418\\anaconda3\\envs\\sate\\lib\\site-packages (from snuggs>=1.4.1->rasterio) (2.4.7)\n",
            "Requirement already satisfied: geopandas in c:\\users\\a9418\\anaconda3\\envs\\sate\\lib\\site-packages (0.6.1)\n",
            "Requirement already satisfied: shapely in c:\\users\\a9418\\anaconda3\\envs\\sate\\lib\\site-packages (from geopandas) (1.6.4.post1)\n",
            "Requirement already satisfied: fiona in c:\\users\\a9418\\anaconda3\\envs\\sate\\lib\\site-packages (from geopandas) (1.8.4)\n",
            "Requirement already satisfied: pandas>=0.23.0 in c:\\users\\a9418\\anaconda3\\envs\\sate\\lib\\site-packages (from geopandas) (1.2.3)\n",
            "Requirement already satisfied: pyproj in c:\\users\\a9418\\appdata\\roaming\\python\\python37\\site-packages (from geopandas) (3.1.0)\n",
            "Requirement already satisfied: numpy>=1.16.5 in c:\\users\\a9418\\anaconda3\\envs\\sate\\lib\\site-packages (from pandas>=0.23.0->geopandas) (1.19.2)\n",
            "Requirement already satisfied: pytz>=2017.3 in c:\\users\\a9418\\anaconda3\\envs\\sate\\lib\\site-packages (from pandas>=0.23.0->geopandas) (2021.1)\n",
            "Requirement already satisfied: python-dateutil>=2.7.3 in c:\\users\\a9418\\anaconda3\\envs\\sate\\lib\\site-packages (from pandas>=0.23.0->geopandas) (2.8.1)\n",
            "Requirement already satisfied: six>=1.5 in c:\\users\\a9418\\anaconda3\\envs\\sate\\lib\\site-packages (from python-dateutil>=2.7.3->pandas>=0.23.0->geopandas) (1.15.0)\n",
            "Requirement already satisfied: attrs>=17 in c:\\users\\a9418\\anaconda3\\envs\\sate\\lib\\site-packages (from fiona->geopandas) (20.3.0)\n",
            "Requirement already satisfied: click<8,>=4.0 in c:\\users\\a9418\\anaconda3\\envs\\sate\\lib\\site-packages (from fiona->geopandas) (7.1.2)\n",
            "Requirement already satisfied: cligj>=0.5 in c:\\users\\a9418\\anaconda3\\envs\\sate\\lib\\site-packages (from fiona->geopandas) (0.7.1)\n",
            "Requirement already satisfied: click-plugins>=1.0 in c:\\users\\a9418\\anaconda3\\envs\\sate\\lib\\site-packages (from fiona->geopandas) (1.1.1)\n",
            "Requirement already satisfied: munch in c:\\users\\a9418\\anaconda3\\envs\\sate\\lib\\site-packages (from fiona->geopandas) (2.5.0)\n",
            "Requirement already satisfied: certifi in c:\\users\\a9418\\anaconda3\\envs\\sate\\lib\\site-packages (from pyproj->geopandas) (2021.5.30)\n"
          ]
        }
      ],
      "source": [
        "!pip install rasterio\n",
        "!pip install geopandas"
      ]
    },
    {
      "cell_type": "code",
      "execution_count": 2,
      "metadata": {
        "id": "8CFaZZbq2e-L"
      },
      "outputs": [],
      "source": [
        "import os\n",
        "import glob\n",
        "import rasterio\n",
        "import geopandas as gpd\n",
        "import fiona\n",
        "from rasterio.plot import show\n",
        "from natsort import natsorted\n",
        "from rasterio.mask import mask\n",
        "import matplotlib.pyplot as plt\n",
        "%matplotlib inline"
      ]
    },
    {
      "cell_type": "markdown",
      "metadata": {
        "id": "ezf--U9vi-Qg"
      },
      "source": [
        "**Import dataset from Kaggle**"
      ]
    },
    {
      "cell_type": "code",
      "execution_count": 3,
      "metadata": {
        "colab": {
          "base_uri": "https://localhost:8080/",
          "height": 56,
          "resources": {
            "http://localhost:8080/nbextensions/google.colab/files.js": {
              "data": "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",
              "headers": [
                [
                  "content-type",
                  "application/javascript"
                ]
              ],
              "ok": true,
              "status": 200,
              "status_text": ""
            }
          }
        },
        "id": "gMwX97OV1nDb",
        "outputId": "42afb1fb-c185-4c73-d7b7-a4aaea4a1e59"
      },
      "outputs": [
        {
          "data": {
            "text/html": [
              "\n",
              "     <input type=\"file\" id=\"files-61ce1e48-d28a-4df9-a04a-aeed7ecf18dd\" name=\"files[]\" multiple disabled\n",
              "        style=\"border:none\" />\n",
              "     <output id=\"result-61ce1e48-d28a-4df9-a04a-aeed7ecf18dd\">\n",
              "      Upload widget is only available when the cell has been executed in the\n",
              "      current browser session. Please rerun this cell to enable.\n",
              "      </output>\n",
              "      <script src=\"/nbextensions/google.colab/files.js\"></script> "
            ],
            "text/plain": [
              "<IPython.core.display.HTML object>"
            ]
          },
          "metadata": {},
          "output_type": "display_data"
        },
        {
          "name": "stdout",
          "output_type": "stream",
          "text": [
            "kaggle.json\n"
          ]
        }
      ],
      "source": [
        "!pip install -q kaggle\n",
        "from google.colab import files\n",
        "files.upload()\n",
        "!mkdir -p ~/.kaggle\n",
        "!cp kaggle.json ~/.kaggle/\n",
        "!ls ~/.kaggle\n",
        "!chmod 600 /root/.kaggle/kaggle.json"
      ]
    },
    {
      "cell_type": "code",
      "execution_count": 4,
      "metadata": {
        "colab": {
          "base_uri": "https://localhost:8080/"
        },
        "id": "x0qvDFyO1wQL",
        "outputId": "7162cbc2-a6e3-4689-b7d0-dc3a35f80206"
      },
      "outputs": [
        {
          "name": "stdout",
          "output_type": "stream",
          "text": [
            "pretrained-model-for-building-footprint-extraction.zip: Skipping, found more recently modified local copy (use --force to force download)\n",
            "Archive:  pretrained-model-for-building-footprint-extraction.zip\n",
            "replace best_model.pth? [y]es, [n]o, [A]ll, [N]one, [r]ename: A\n",
            "  inflating: best_model.pth          \n",
            "  inflating: reference.txt           \n"
          ]
        }
      ],
      "source": [
        "!kaggle datasets download -d menvuthy/pretrained-model-for-building-footprint-extraction\n",
        "!unzip pretrained-model-for-building-footprint-extraction"
      ]
    },
    {
      "cell_type": "code",
      "execution_count": 5,
      "metadata": {
        "colab": {
          "base_uri": "https://localhost:8080/"
        },
        "id": "1grV4V-M19xL",
        "outputId": "acbc419e-bfff-4e02-a395-4fe5dc450a2e"
      },
      "outputs": [
        {
          "name": "stdout",
          "output_type": "stream",
          "text": [
            "sample-wv3-image.zip: Skipping, found more recently modified local copy (use --force to force download)\n",
            "Archive:  sample-wv3-image.zip\n",
            "replace sample_wv3/20SEP15031838-S2AS-013787850070_01_P001.TIF? [y]es, [n]o, [A]ll, [N]one, [r]ename: A\n",
            "  inflating: sample_wv3/20SEP15031838-S2AS-013787850070_01_P001.TIF  A\n",
            "\n",
            "  inflating: sample_wv3/grid.cpg     \n",
            "  inflating: sample_wv3/grid.dbf     \n",
            "  inflating: sample_wv3/grid.prj     \n",
            "  inflating: sample_wv3/grid.shp     \n",
            "  inflating: sample_wv3/grid.shx     \n"
          ]
        }
      ],
      "source": [
        "!kaggle datasets download -d menvuthy/sample-wv3-image\n",
        "!unzip sample-wv3-image"
      ]
    },
    {
      "cell_type": "markdown",
      "metadata": {
        "id": "oWtSuaE39P2B"
      },
      "source": [
        "**Read input image**"
      ]
    },
    {
      "cell_type": "code",
      "execution_count": 6,
      "metadata": {
        "id": "xhunPfGE3gjK"
      },
      "outputs": [],
      "source": [
        "# Import raster file from directory\n",
        "image = rasterio.open('/content/sample_wv3/20SEP15031838-S2AS-013787850070_01_P001.TIF')"
      ]
    },
    {
      "cell_type": "code",
      "execution_count": 7,
      "metadata": {
        "colab": {
          "base_uri": "https://localhost:8080/"
        },
        "id": "y_4c5c1X-VPL",
        "outputId": "15ec3eb2-240e-4cf2-c053-063119acd020"
      },
      "outputs": [
        {
          "name": "stdout",
          "output_type": "stream",
          "text": [
            "(14519, 13015)\n"
          ]
        }
      ],
      "source": [
        "# The original shape of image before splitting\n",
        "print(image.read(1).shape)"
      ]
    },
    {
      "cell_type": "code",
      "execution_count": 8,
      "metadata": {
        "colab": {
          "base_uri": "https://localhost:8080/",
          "height": 313
        },
        "id": "XJmoPzHN4gkb",
        "outputId": "075c8d8e-e3c9-4243-9674-12781815ac85"
      },
      "outputs": [
        {
          "name": "stderr",
          "output_type": "stream",
          "text": [
            "Clipping input data to the valid range for imshow with RGB data ([0..1] for floats or [0..255] for integers).\n"
          ]
        },
        {
          "data": {
            "image/png": "[encoded data removed]",
            "text/plain": [
              "<Figure size 432x288 with 1 Axes>"
            ]
          },
          "metadata": {
            "needs_background": "light"
          },
          "output_type": "display_data"
        },
        {
          "data": {
            "text/plain": [
              "<matplotlib.axes._subplots.AxesSubplot at 0x7fa52646c0d0>"
            ]
          },
          "execution_count": 8,
          "metadata": {},
          "output_type": "execute_result"
        }
      ],
      "source": [
        "# Visualize image\n",
        "show(image)"
      ]
    },
    {
      "cell_type": "markdown",
      "metadata": {
        "id": "XI3nikKD9U1d"
      },
      "source": [
        "**Read grid shape**"
      ]
    },
    {
      "cell_type": "markdown",
      "metadata": {
        "id": "nH9VzsCWkcJY"
      },
      "source": [
        "This grid can be easily done in QGIS using `Create Grid...` in Research Tool in Vector."
      ]
    },
    {
      "cell_type": "code",
      "execution_count": 9,
      "metadata": {
        "colab": {
          "base_uri": "https://localhost:8080/",
          "height": 206
        },
        "id": "DUGcNTb-6IOV",
        "outputId": "6de7d049-3da6-422a-bbd5-5cd41509678f"
      },
      "outputs": [
        {
          "data": {
            "text/html": [
              "\n",
              "  <div id=\"df-2c2447dc-d8f1-4516-a58a-5fd1c35d4612\">\n",
              "    <div class=\"colab-df-container\">\n",
              "      <div>\n",
              "<style scoped>\n",
              "    .dataframe tbody tr th:only-of-type {\n",
              "        vertical-align: middle;\n",
              "    }\n",
              "\n",
              "    .dataframe tbody tr th {\n",
              "        vertical-align: top;\n",
              "    }\n",
              "\n",
              "    .dataframe thead th {\n",
              "        text-align: right;\n",
              "    }\n",
              "</style>\n",
              "<table border=\"1\" class=\"dataframe\">\n",
              "  <thead>\n",
              "    <tr style=\"text-align: right;\">\n",
              "      <th></th>\n",
              "      <th>id</th>\n",
              "      <th>left</th>\n",
              "      <th>top</th>\n",
              "      <th>right</th>\n",
              "      <th>bottom</th>\n",
              "      <th>geometry</th>\n",
              "    </tr>\n",
              "  </thead>\n",
              "  <tbody>\n",
              "    <tr>\n",
              "      <th>0</th>\n",
              "      <td>1.0</td>\n",
              "      <td>442278.0</td>\n",
              "      <td>9239086.0</td>\n",
              "      <td>443778.0</td>\n",
              "      <td>9237586.0</td>\n",
              "      <td>POLYGON ((442278.000 9239086.000, 443778.000 9...</td>\n",
              "    </tr>\n",
              "    <tr>\n",
              "      <th>1</th>\n",
              "      <td>2.0</td>\n",
              "      <td>442278.0</td>\n",
              "      <td>9237586.0</td>\n",
              "      <td>443778.0</td>\n",
              "      <td>9236086.0</td>\n",
              "      <td>POLYGON ((442278.000 9237586.000, 443778.000 9...</td>\n",
              "    </tr>\n",
              "    <tr>\n",
              "      <th>2</th>\n",
              "      <td>3.0</td>\n",
              "      <td>442278.0</td>\n",
              "      <td>9236086.0</td>\n",
              "      <td>443778.0</td>\n",
              "      <td>9234586.0</td>\n",
              "      <td>POLYGON ((442278.000 9236086.000, 443778.000 9...</td>\n",
              "    </tr>\n",
              "    <tr>\n",
              "      <th>3</th>\n",
              "      <td>4.0</td>\n",
              "      <td>442278.0</td>\n",
              "      <td>9234586.0</td>\n",
              "      <td>443778.0</td>\n",
              "      <td>9233086.0</td>\n",
              "      <td>POLYGON ((442278.000 9234586.000, 443778.000 9...</td>\n",
              "    </tr>\n",
              "    <tr>\n",
              "      <th>4</th>\n",
              "      <td>5.0</td>\n",
              "      <td>442278.0</td>\n",
              "      <td>9233086.0</td>\n",
              "      <td>443778.0</td>\n",
              "      <td>9231586.0</td>\n",
              "      <td>POLYGON ((442278.000 9233086.000, 443778.000 9...</td>\n",
              "    </tr>\n",
              "  </tbody>\n",
              "</table>\n",
              "</div>\n",
              "      <button class=\"colab-df-convert\" onclick=\"convertToInteractive('df-2c2447dc-d8f1-4516-a58a-5fd1c35d4612')\"\n",
              "              title=\"Convert this dataframe to an interactive table.\"\n",
              "              style=\"display:none;\">\n",
              "        \n",
              "  <svg xmlns=\"http://www.w3.org/2000/svg\" height=\"24px\"viewBox=\"0 0 24 24\"\n",
              "       width=\"24px\">\n",
              "    <path d=\"M0 0h24v24H0V0z\" fill=\"none\"/>\n",
              "    <path d=\"M18.56 5.44l.94 2.06.94-2.06 2.06-.94-2.06-.94-.94-2.06-.94 2.06-2.06.94zm-11 1L8.5 8.5l.94-2.06 2.06-.94-2.06-.94L8.5 2.5l-.94 2.06-2.06.94zm10 10l.94 2.06.94-2.06 2.06-.94-2.06-.94-.94-2.06-.94 2.06-2.06.94z\"/><path d=\"M17.41 7.96l-1.37-1.37c-.4-.4-.92-.59-1.43-.59-.52 0-1.04.2-1.43.59L10.3 9.45l-7.72 7.72c-.78.78-.78 2.05 0 2.83L4 21.41c.39.39.9.59 1.41.59.51 0 1.02-.2 1.41-.59l7.78-7.78 2.81-2.81c.8-.78.8-2.07 0-2.86zM5.41 20L4 18.59l7.72-7.72 1.47 1.35L5.41 20z\"/>\n",
              "  </svg>\n",
              "      </button>\n",
              "      \n",
              "  <style>\n",
              "    .colab-df-container {\n",
              "      display:flex;\n",
              "      flex-wrap:wrap;\n",
              "      gap: 12px;\n",
              "    }\n",
              "\n",
              "    .colab-df-convert {\n",
              "      background-color: #E8F0FE;\n",
              "      border: none;\n",
              "      border-radius: 50%;\n",
              "      cursor: pointer;\n",
              "      display: none;\n",
              "      fill: #1967D2;\n",
              "      height: 32px;\n",
              "      padding: 0 0 0 0;\n",
              "      width: 32px;\n",
              "    }\n",
              "\n",
              "    .colab-df-convert:hover {\n",
              "      background-color: #E2EBFA;\n",
              "      box-shadow: 0px 1px 2px rgba(60, 64, 67, 0.3), 0px 1px 3px 1px rgba(60, 64, 67, 0.15);\n",
              "      fill: #174EA6;\n",
              "    }\n",
              "\n",
              "    [theme=dark] .colab-df-convert {\n",
              "      background-color: #3B4455;\n",
              "      fill: #D2E3FC;\n",
              "    }\n",
              "\n",
              "    [theme=dark] .colab-df-convert:hover {\n",
              "      background-color: #434B5C;\n",
              "      box-shadow: 0px 1px 3px 1px rgba(0, 0, 0, 0.15);\n",
              "      filter: drop-shadow(0px 1px 2px rgba(0, 0, 0, 0.3));\n",
              "      fill: #FFFFFF;\n",
              "    }\n",
              "  </style>\n",
              "\n",
              "      <script>\n",
              "        const buttonEl =\n",
              "          document.querySelector('#df-2c2447dc-d8f1-4516-a58a-5fd1c35d4612 button.colab-df-convert');\n",
              "        buttonEl.style.display =\n",
              "          google.colab.kernel.accessAllowed ? 'block' : 'none';\n",
              "\n",
              "        async function convertToInteractive(key) {\n",
              "          const element = document.querySelector('#df-2c2447dc-d8f1-4516-a58a-5fd1c35d4612');\n",
              "          const dataTable =\n",
              "            await google.colab.kernel.invokeFunction('convertToInteractive',\n",
              "                                                     [key], {});\n",
              "          if (!dataTable) return;\n",
              "\n",
              "          const docLinkHtml = 'Like what you see? Visit the ' +\n",
              "            '<a target=\"_blank\" href=https://colab.research.google.com/notebooks/data_table.ipynb>data table notebook</a>'\n",
              "            + ' to learn more about interactive tables.';\n",
              "          element.innerHTML = '';\n",
              "          dataTable['output_type'] = 'display_data';\n",
              "          await google.colab.output.renderOutput(dataTable, element);\n",
              "          const docLink = document.createElement('div');\n",
              "          docLink.innerHTML = docLinkHtml;\n",
              "          element.appendChild(docLink);\n",
              "        }\n",
              "      </script>\n",
              "    </div>\n",
              "  </div>\n",
              "  "
            ],
            "text/plain": [
              "    id      left  ...     bottom                                           geometry\n",
              "0  1.0  442278.0  ...  9237586.0  POLYGON ((442278.000 9239086.000, 443778.000 9...\n",
              "1  2.0  442278.0  ...  9236086.0  POLYGON ((442278.000 9237586.000, 443778.000 9...\n",
              "2  3.0  442278.0  ...  9234586.0  POLYGON ((442278.000 9236086.000, 443778.000 9...\n",
              "3  4.0  442278.0  ...  9233086.0  POLYGON ((442278.000 9234586.000, 443778.000 9...\n",
              "4  5.0  442278.0  ...  9231586.0  POLYGON ((442278.000 9233086.000, 443778.000 9...\n",
              "\n",
              "[5 rows x 6 columns]"
            ]
          },
          "execution_count": 9,
          "metadata": {},
          "output_type": "execute_result"
        }
      ],
      "source": [
        "# Import grid file from directory\n",
        "grid_geo = gpd.read_file('/content/sample_wv3/grid.shp')\n",
        "grid_geo.head()"
      ]
    },
    {
      "cell_type": "code",
      "execution_count": 10,
      "metadata": {
        "colab": {
          "base_uri": "https://localhost:8080/",
          "height": 275
        },
        "id": "ImiHGXN_7sFF",
        "outputId": "ff93c673-de46-4484-e637-e65617edfd4d"
      },
      "outputs": [
        {
          "data": {
            "image/png": "[encoded data removed]",
            "text/plain": [
              "<Figure size 432x288 with 1 Axes>"
            ]
          },
          "metadata": {
            "needs_background": "light"
          },
          "output_type": "display_data"
        }
      ],
      "source": [
        "# Plot the grid shape\n",
        "grid_geo['geometry'].plot(facecolor=\"none\", edgecolor='blue', lw=0.7);"
      ]
    },
    {
      "cell_type": "markdown",
      "metadata": {
        "id": "hRGCY_80peWj"
      },
      "source": [
        "**Mask main image into 21 images**"
      ]
    },
    {
      "cell_type": "markdown",
      "metadata": {
        "id": "1Zg-hgen9oBq"
      },
      "source": [
        "From the grid, there are in total of 21 squares, which means I will mask the raster image into 21 images based on the square size."
      ]
    },
    {
      "cell_type": "code",
      "execution_count": 11,
      "metadata": {
        "id": "tqriscNx5gMa"
      },
      "outputs": [],
      "source": [
        "# Read Shape file\n",
        "with fiona.open('/content/sample_wv3/grid.shp', \"r\") as shapefile:\n",
        "    shapes = [feature[\"geometry\"] for feature in shapefile]"
      ]
    },
    {
      "cell_type": "markdown",
      "metadata": {
        "id": "i2Bnqw7an7qd"
      },
      "source": [
        "Mask the raster image one by one into 21 images using loop operation"
      ]
    },
    {
      "cell_type": "code",
      "execution_count": 12,
      "metadata": {
        "id": "xakxS8A9Htta"
      },
      "outputs": [],
      "source": [
        "# Create an empty list for clipped result\n",
        "Out_img , Out_transform = [], []\n",
        "\n",
        "for i in range(len(shapes)):\n",
        "  # Extract shape\n",
        "  shape = [shapes[i]]\n",
        "  \n",
        "  # Mask the raster with Polygon\n",
        "  out_img, out_transform = mask(image, shape, crop=True)\n",
        "\n",
        "  # Append to list\n",
        "  Out_img.append(out_img)\n",
        "  Out_transform.append(out_transform)\n"
      ]
    },
    {
      "cell_type": "markdown",
      "metadata": {
        "id": "kv_q3ksKpRns"
      },
      "source": [
        "Visualize sample output"
      ]
    },
    {
      "cell_type": "code",
      "execution_count": 13,
      "metadata": {
        "colab": {
          "base_uri": "https://localhost:8080/",
          "height": 305
        },
        "id": "cpAS7LBjpQ8c",
        "outputId": "ecc0d62b-0a37-4b2f-d1c9-ed363e883cbb"
      },
      "outputs": [
        {
          "name": "stderr",
          "output_type": "stream",
          "text": [
            "Clipping input data to the valid range for imshow with RGB data ([0..1] for floats or [0..255] for integers).\n"
          ]
        },
        {
          "data": {
            "image/png": "[encoded data removed]",
            "text/plain": [
              "<Figure size 432x288 with 1 Axes>"
            ]
          },
          "metadata": {
            "needs_background": "light"
          },
          "output_type": "display_data"
        },
        {
          "data": {
            "text/plain": [
              "<matplotlib.axes._subplots.AxesSubplot at 0x7fa51c6997d0>"
            ]
          },
          "execution_count": 13,
          "metadata": {},
          "output_type": "execute_result"
        }
      ],
      "source": [
        "show(Out_img[2])"
      ]
    },
    {
      "cell_type": "markdown",
      "metadata": {
        "id": "mUPeb7-rprOa"
      },
      "source": [
        "**Export result**"
      ]
    },
    {
      "cell_type": "code",
      "execution_count": 14,
      "metadata": {
        "id": "Km6ExG_HOfz1"
      },
      "outputs": [],
      "source": [
        "# Create file name number for each result\n",
        "order = [str(x) for x in range(1, len(shapes) +1)]"
      ]
    },
    {
      "cell_type": "markdown",
      "metadata": {
        "id": "lQ_2elaGok4j"
      },
      "source": [
        "Export masked images to output directory "
      ]
    },
    {
      "cell_type": "code",
      "execution_count": 15,
      "metadata": {
        "id": "C5zTBudPP4EX"
      },
      "outputs": [],
      "source": [
        "for i in range(len(shapes)):\n",
        "  # Data dir\n",
        "  data_dir = \"/content/drive/MyDrive/Colab Notebooks/Porfolio/Deep-learning/output/wv3-images\"\n",
        "\n",
        "  # Output raster\n",
        "  out_tif = os.path.join(data_dir, 'image'+ order[i] +'.tiff')\n",
        "\n",
        "  # Copy the metadata\n",
        "  out_meta = image.meta.copy()\n",
        "\n",
        "  # Update meta\n",
        "  out_meta.update({\"driver\": \"GTiff\",\n",
        "                  \"dtype\": 'uint16',\n",
        "                  \"height\": Out_img[i].shape[1],\n",
        "                  \"width\": Out_img[i].shape[2],\n",
        "                  \"transform\": Out_transform[i],\n",
        "                  \"count\": 4,\n",
        "                  \"crs\": image.crs})\n",
        "\n",
        "  # Write image\n",
        "  with rasterio.open(out_tif, \"w\", **out_meta) as dest:\n",
        "          dest.write(Out_img[i].astype('uint16'))\n"
      ]
    },
    {
      "cell_type": "markdown",
      "metadata": {
        "id": "W6YyKUydo2kg"
      },
      "source": [
        "Finally, we can see how to split satellite image into small pieces for model prediction. \n",
        "\n",
        "---\n",
        "\n"
      ]
    }
  ],
  "metadata": {
    "colab": {
      "collapsed_sections": [],
      "name": "Split satellite image into small pieces for model prediction.ipynb",
      "provenance": []
    },
    "kernelspec": {
      "display_name": "Python 3",
      "name": "python3"
    },
    "language_info": {
      "codemirror_mode": {
        "name": "ipython",
        "version": 3
      },
      "file_extension": ".py",
      "mimetype": "text/x-python",
      "name": "python",
      "nbconvert_exporter": "python",
      "pygments_lexer": "ipython3",
      "version": "3.7.10"
    }
  },
  "nbformat": 4,
  "nbformat_minor": 0
}
